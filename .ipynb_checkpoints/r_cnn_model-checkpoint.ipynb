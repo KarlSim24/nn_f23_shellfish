{
 "cells": [
  {
   "cell_type": "markdown",
   "metadata": {
    "id": "vDLX7GFNdfth"
   },
   "source": [
    "### R-CNN Implementation Using Keras"
   ]
  },
  {
   "cell_type": "markdown",
   "metadata": {
    "id": "-RlzqTyPdhGL"
   },
   "source": [
    "## Step 1: read in dataset and draw bounding boxes on images"
   ]
  },
  {
   "cell_type": "code",
   "execution_count": 5,
   "metadata": {
    "id": "XyMMkb_QdYdP"
   },
   "outputs": [],
   "source": [
    "import os,cv2,keras\n",
    "import pandas as pd\n",
    "import matplotlib.pyplot as plt\n",
    "import numpy as np\n",
    "import tensorflow as tf\n",
    "from sklearn.model_selection import train_test_split\n",
    "from tensorflow.keras.models import Sequential\n",
    "from tensorflow.keras.layers import Dense, Activation, Conv2D, MaxPooling2D, Flatten, Dropout\n",
    "import matplotlib.pyplot as plt\n",
    "import numpy as np\n",
    "import os\n",
    "import PIL\n",
    "import tensorflow as tf\n",
    "from tensorflow import keras\n",
    "from tensorflow.keras import layers\n",
    "from tensorflow.keras.models import Sequential\n",
    "import pathlib\n",
    "import pandas as pd\n",
    "from PIL import Image\n",
    "from PIL.ImageDraw import Draw\n"
   ]
  },
  {
   "cell_type": "markdown",
   "metadata": {
    "id": "dXzg5o_Djsct"
   },
   "source": [
    "## Step 2: start building model"
   ]
  },
  {
   "cell_type": "code",
   "execution_count": 6,
   "metadata": {
    "id": "CSdag0c-hgJN"
   },
   "outputs": [],
   "source": [
    "width = 416\n",
    "height = 416\n",
    "num_classes = 3\n",
    "classes = [\"Crab\", \"Shrimp\", \"Lobster\"]"
   ]
  },
  {
   "cell_type": "code",
   "execution_count": 11,
   "metadata": {},
   "outputs": [],
   "source": [
    "def load_and_process_data(csv_file, image_dir):\n",
    "    image_records = pd.read_csv(csv_file)\n",
    "    image_path = os.path.join(os.getcwd(), image_dir)\n",
    "    # print(image_path)\n",
    "\n",
    "    images = []\n",
    "    targets = []\n",
    "    labels = []\n",
    "\n",
    "    for index, row in image_records.iterrows():\n",
    "        (filename, width, height, class_name, xmin, ymin, xmax, ymax) = row\n",
    "\n",
    "        image_fullpath = os.path.join(image_path, filename)\n",
    "        img = keras.preprocessing.image.load_img(image_fullpath)\n",
    "        img_arr = keras.preprocessing.image.img_to_array(img)\n",
    "        # print(img_arr.shape)\n",
    "\n",
    "        xmin = round(xmin/ width, 2)\n",
    "        ymin = round(ymin/ height, 2)\n",
    "        xmax = round(xmax/ width, 2)\n",
    "        ymax = round(ymax/ height, 2)\n",
    "\n",
    "        images.append(img_arr)\n",
    "        targets.append((xmin, ymin, xmax, ymax))\n",
    "        labels.append(classes.index(class_name))\n",
    "\n",
    "    return images, targets, labels"
   ]
  },
  {
   "cell_type": "code",
   "execution_count": 12,
   "metadata": {},
   "outputs": [
    {
     "name": "stdout",
     "output_type": "stream",
     "text": [
      "C:\\Users\\black\\OneDrive - The George Washington University\\Fall 2023\\CSCI 4366\\Final Project\\nn_f23_shellfish\\../shellfish_dataset/train\\d66fe3c0f7d5a396_jpg.rf.0d947e33ef400474603dc78f438e2101.jpg\n",
      "C:\\Users\\black\\OneDrive - The George Washington University\\Fall 2023\\CSCI 4366\\Final Project\\nn_f23_shellfish\\../shellfish_dataset/train\\b8d029497cf7bac6_jpg.rf.0180374b736435cd50e82b8ca054220c.jpg\n",
      "C:\\Users\\black\\OneDrive - The George Washington University\\Fall 2023\\CSCI 4366\\Final Project\\nn_f23_shellfish\\../shellfish_dataset/train\\b8d029497cf7bac6_jpg.rf.0180374b736435cd50e82b8ca054220c.jpg\n",
      "C:\\Users\\black\\OneDrive - The George Washington University\\Fall 2023\\CSCI 4366\\Final Project\\nn_f23_shellfish\\../shellfish_dataset/train\\faa591da3ab1fa90_jpg.rf.0b5cc08196694e1f25b4b0c8d6fdf1d8.jpg\n",
      "C:\\Users\\black\\OneDrive - The George Washington University\\Fall 2023\\CSCI 4366\\Final Project\\nn_f23_shellfish\\../shellfish_dataset/train\\faa591da3ab1fa90_jpg.rf.0b5cc08196694e1f25b4b0c8d6fdf1d8.jpg\n",
      "C:\\Users\\black\\OneDrive - The George Washington University\\Fall 2023\\CSCI 4366\\Final Project\\nn_f23_shellfish\\../shellfish_dataset/train\\faa591da3ab1fa90_jpg.rf.0b5cc08196694e1f25b4b0c8d6fdf1d8.jpg\n",
      "C:\\Users\\black\\OneDrive - The George Washington University\\Fall 2023\\CSCI 4366\\Final Project\\nn_f23_shellfish\\../shellfish_dataset/train\\faa591da3ab1fa90_jpg.rf.0b5cc08196694e1f25b4b0c8d6fdf1d8.jpg\n",
      "C:\\Users\\black\\OneDrive - The George Washington University\\Fall 2023\\CSCI 4366\\Final Project\\nn_f23_shellfish\\../shellfish_dataset/train\\faa591da3ab1fa90_jpg.rf.0b5cc08196694e1f25b4b0c8d6fdf1d8.jpg\n",
      "C:\\Users\\black\\OneDrive - The George Washington University\\Fall 2023\\CSCI 4366\\Final Project\\nn_f23_shellfish\\../shellfish_dataset/train\\faa591da3ab1fa90_jpg.rf.0b5cc08196694e1f25b4b0c8d6fdf1d8.jpg\n",
      "C:\\Users\\black\\OneDrive - The George Washington University\\Fall 2023\\CSCI 4366\\Final Project\\nn_f23_shellfish\\../shellfish_dataset/train\\584587c816871fd9_jpg.rf.0b5fd34d6605bba39b02e0e77166d968.jpg\n",
      "C:\\Users\\black\\OneDrive - The George Washington University\\Fall 2023\\CSCI 4366\\Final Project\\nn_f23_shellfish\\../shellfish_dataset/train\\584587c816871fd9_jpg.rf.0b5fd34d6605bba39b02e0e77166d968.jpg\n",
      "C:\\Users\\black\\OneDrive - The George Washington University\\Fall 2023\\CSCI 4366\\Final Project\\nn_f23_shellfish\\../shellfish_dataset/train\\584587c816871fd9_jpg.rf.0b5fd34d6605bba39b02e0e77166d968.jpg\n",
      "C:\\Users\\black\\OneDrive - The George Washington University\\Fall 2023\\CSCI 4366\\Final Project\\nn_f23_shellfish\\../shellfish_dataset/train\\584587c816871fd9_jpg.rf.0b5fd34d6605bba39b02e0e77166d968.jpg\n",
      "C:\\Users\\black\\OneDrive - The George Washington University\\Fall 2023\\CSCI 4366\\Final Project\\nn_f23_shellfish\\../shellfish_dataset/train\\584587c816871fd9_jpg.rf.0b5fd34d6605bba39b02e0e77166d968.jpg\n",
      "C:\\Users\\black\\OneDrive - The George Washington University\\Fall 2023\\CSCI 4366\\Final Project\\nn_f23_shellfish\\../shellfish_dataset/train\\21e2bfda905473a8_jpg.rf.0aa2de91b4f46cb011b1212feac6db90.jpg\n",
      "C:\\Users\\black\\OneDrive - The George Washington University\\Fall 2023\\CSCI 4366\\Final Project\\nn_f23_shellfish\\../shellfish_dataset/train\\7e2b0bf6eba0560b_jpg.rf.09543b8ba3c125c81e22c5ff09f6c9c7.jpg\n",
      "C:\\Users\\black\\OneDrive - The George Washington University\\Fall 2023\\CSCI 4366\\Final Project\\nn_f23_shellfish\\../shellfish_dataset/train\\1f11f687ca2dafb6_jpg.rf.04354f327b1c5cf6a6011368b419e845.jpg\n",
      "C:\\Users\\black\\OneDrive - The George Washington University\\Fall 2023\\CSCI 4366\\Final Project\\nn_f23_shellfish\\../shellfish_dataset/train\\1f11f687ca2dafb6_jpg.rf.04354f327b1c5cf6a6011368b419e845.jpg\n",
      "C:\\Users\\black\\OneDrive - The George Washington University\\Fall 2023\\CSCI 4366\\Final Project\\nn_f23_shellfish\\../shellfish_dataset/train\\1f11f687ca2dafb6_jpg.rf.04354f327b1c5cf6a6011368b419e845.jpg\n",
      "C:\\Users\\black\\OneDrive - The George Washington University\\Fall 2023\\CSCI 4366\\Final Project\\nn_f23_shellfish\\../shellfish_dataset/train\\1f11f687ca2dafb6_jpg.rf.04354f327b1c5cf6a6011368b419e845.jpg\n",
      "C:\\Users\\black\\OneDrive - The George Washington University\\Fall 2023\\CSCI 4366\\Final Project\\nn_f23_shellfish\\../shellfish_dataset/train\\1f11f687ca2dafb6_jpg.rf.04354f327b1c5cf6a6011368b419e845.jpg\n",
      "C:\\Users\\black\\OneDrive - The George Washington University\\Fall 2023\\CSCI 4366\\Final Project\\nn_f23_shellfish\\../shellfish_dataset/train\\1f11f687ca2dafb6_jpg.rf.04354f327b1c5cf6a6011368b419e845.jpg\n",
      "C:\\Users\\black\\OneDrive - The George Washington University\\Fall 2023\\CSCI 4366\\Final Project\\nn_f23_shellfish\\../shellfish_dataset/train\\1f11f687ca2dafb6_jpg.rf.04354f327b1c5cf6a6011368b419e845.jpg\n",
      "C:\\Users\\black\\OneDrive - The George Washington University\\Fall 2023\\CSCI 4366\\Final Project\\nn_f23_shellfish\\../shellfish_dataset/train\\1f11f687ca2dafb6_jpg.rf.04354f327b1c5cf6a6011368b419e845.jpg\n",
      "C:\\Users\\black\\OneDrive - The George Washington University\\Fall 2023\\CSCI 4366\\Final Project\\nn_f23_shellfish\\../shellfish_dataset/train\\1f11f687ca2dafb6_jpg.rf.04354f327b1c5cf6a6011368b419e845.jpg\n",
      "C:\\Users\\black\\OneDrive - The George Washington University\\Fall 2023\\CSCI 4366\\Final Project\\nn_f23_shellfish\\../shellfish_dataset/train\\1f11f687ca2dafb6_jpg.rf.04354f327b1c5cf6a6011368b419e845.jpg\n",
      "C:\\Users\\black\\OneDrive - The George Washington University\\Fall 2023\\CSCI 4366\\Final Project\\nn_f23_shellfish\\../shellfish_dataset/train\\1f11f687ca2dafb6_jpg.rf.04354f327b1c5cf6a6011368b419e845.jpg\n",
      "C:\\Users\\black\\OneDrive - The George Washington University\\Fall 2023\\CSCI 4366\\Final Project\\nn_f23_shellfish\\../shellfish_dataset/train\\1f11f687ca2dafb6_jpg.rf.04354f327b1c5cf6a6011368b419e845.jpg\n",
      "C:\\Users\\black\\OneDrive - The George Washington University\\Fall 2023\\CSCI 4366\\Final Project\\nn_f23_shellfish\\../shellfish_dataset/train\\1f11f687ca2dafb6_jpg.rf.04354f327b1c5cf6a6011368b419e845.jpg\n",
      "C:\\Users\\black\\OneDrive - The George Washington University\\Fall 2023\\CSCI 4366\\Final Project\\nn_f23_shellfish\\../shellfish_dataset/train\\1f11f687ca2dafb6_jpg.rf.04354f327b1c5cf6a6011368b419e845.jpg\n",
      "C:\\Users\\black\\OneDrive - The George Washington University\\Fall 2023\\CSCI 4366\\Final Project\\nn_f23_shellfish\\../shellfish_dataset/train\\1f11f687ca2dafb6_jpg.rf.04354f327b1c5cf6a6011368b419e845.jpg\n",
      "C:\\Users\\black\\OneDrive - The George Washington University\\Fall 2023\\CSCI 4366\\Final Project\\nn_f23_shellfish\\../shellfish_dataset/train\\1f11f687ca2dafb6_jpg.rf.04354f327b1c5cf6a6011368b419e845.jpg\n",
      "C:\\Users\\black\\OneDrive - The George Washington University\\Fall 2023\\CSCI 4366\\Final Project\\nn_f23_shellfish\\../shellfish_dataset/train\\1f11f687ca2dafb6_jpg.rf.04354f327b1c5cf6a6011368b419e845.jpg\n",
      "C:\\Users\\black\\OneDrive - The George Washington University\\Fall 2023\\CSCI 4366\\Final Project\\nn_f23_shellfish\\../shellfish_dataset/train\\1f11f687ca2dafb6_jpg.rf.04354f327b1c5cf6a6011368b419e845.jpg\n",
      "C:\\Users\\black\\OneDrive - The George Washington University\\Fall 2023\\CSCI 4366\\Final Project\\nn_f23_shellfish\\../shellfish_dataset/train\\1f11f687ca2dafb6_jpg.rf.04354f327b1c5cf6a6011368b419e845.jpg\n",
      "C:\\Users\\black\\OneDrive - The George Washington University\\Fall 2023\\CSCI 4366\\Final Project\\nn_f23_shellfish\\../shellfish_dataset/train\\1f11f687ca2dafb6_jpg.rf.04354f327b1c5cf6a6011368b419e845.jpg\n",
      "C:\\Users\\black\\OneDrive - The George Washington University\\Fall 2023\\CSCI 4366\\Final Project\\nn_f23_shellfish\\../shellfish_dataset/train\\1f11f687ca2dafb6_jpg.rf.04354f327b1c5cf6a6011368b419e845.jpg\n",
      "C:\\Users\\black\\OneDrive - The George Washington University\\Fall 2023\\CSCI 4366\\Final Project\\nn_f23_shellfish\\../shellfish_dataset/train\\1f11f687ca2dafb6_jpg.rf.04354f327b1c5cf6a6011368b419e845.jpg\n",
      "C:\\Users\\black\\OneDrive - The George Washington University\\Fall 2023\\CSCI 4366\\Final Project\\nn_f23_shellfish\\../shellfish_dataset/train\\1f11f687ca2dafb6_jpg.rf.04354f327b1c5cf6a6011368b419e845.jpg\n",
      "C:\\Users\\black\\OneDrive - The George Washington University\\Fall 2023\\CSCI 4366\\Final Project\\nn_f23_shellfish\\../shellfish_dataset/train\\1f11f687ca2dafb6_jpg.rf.04354f327b1c5cf6a6011368b419e845.jpg\n",
      "C:\\Users\\black\\OneDrive - The George Washington University\\Fall 2023\\CSCI 4366\\Final Project\\nn_f23_shellfish\\../shellfish_dataset/train\\1f11f687ca2dafb6_jpg.rf.04354f327b1c5cf6a6011368b419e845.jpg\n",
      "C:\\Users\\black\\OneDrive - The George Washington University\\Fall 2023\\CSCI 4366\\Final Project\\nn_f23_shellfish\\../shellfish_dataset/train\\1f11f687ca2dafb6_jpg.rf.04354f327b1c5cf6a6011368b419e845.jpg\n",
      "C:\\Users\\black\\OneDrive - The George Washington University\\Fall 2023\\CSCI 4366\\Final Project\\nn_f23_shellfish\\../shellfish_dataset/train\\1f11f687ca2dafb6_jpg.rf.04354f327b1c5cf6a6011368b419e845.jpg\n",
      "C:\\Users\\black\\OneDrive - The George Washington University\\Fall 2023\\CSCI 4366\\Final Project\\nn_f23_shellfish\\../shellfish_dataset/train\\fc40cf475765467f_jpg.rf.0e76b55710c5ea754b1f1df120194e57.jpg\n",
      "C:\\Users\\black\\OneDrive - The George Washington University\\Fall 2023\\CSCI 4366\\Final Project\\nn_f23_shellfish\\../shellfish_dataset/train\\f0a31b9c190e138a_jpg.rf.01424894847982a705e985ba6c48e235.jpg\n",
      "C:\\Users\\black\\OneDrive - The George Washington University\\Fall 2023\\CSCI 4366\\Final Project\\nn_f23_shellfish\\../shellfish_dataset/train\\1bcf28862a9dca39_jpg.rf.10eec21feca43d4b268f133f03b89585.jpg\n",
      "C:\\Users\\black\\OneDrive - The George Washington University\\Fall 2023\\CSCI 4366\\Final Project\\nn_f23_shellfish\\../shellfish_dataset/train\\1bcf28862a9dca39_jpg.rf.10eec21feca43d4b268f133f03b89585.jpg\n",
      "C:\\Users\\black\\OneDrive - The George Washington University\\Fall 2023\\CSCI 4366\\Final Project\\nn_f23_shellfish\\../shellfish_dataset/train\\1bcf28862a9dca39_jpg.rf.10eec21feca43d4b268f133f03b89585.jpg\n",
      "C:\\Users\\black\\OneDrive - The George Washington University\\Fall 2023\\CSCI 4366\\Final Project\\nn_f23_shellfish\\../shellfish_dataset/train\\1bcf28862a9dca39_jpg.rf.10eec21feca43d4b268f133f03b89585.jpg\n",
      "C:\\Users\\black\\OneDrive - The George Washington University\\Fall 2023\\CSCI 4366\\Final Project\\nn_f23_shellfish\\../shellfish_dataset/train\\1bcf28862a9dca39_jpg.rf.10eec21feca43d4b268f133f03b89585.jpg\n",
      "C:\\Users\\black\\OneDrive - The George Washington University\\Fall 2023\\CSCI 4366\\Final Project\\nn_f23_shellfish\\../shellfish_dataset/train\\032ea1e00897db72_jpg.rf.0d8659aa5d66604831ff392a5a078631.jpg\n",
      "C:\\Users\\black\\OneDrive - The George Washington University\\Fall 2023\\CSCI 4366\\Final Project\\nn_f23_shellfish\\../shellfish_dataset/train\\353d655c191c85a7_jpg.rf.0899ed5614a3ceccab28923f9073f75e.jpg\n",
      "C:\\Users\\black\\OneDrive - The George Washington University\\Fall 2023\\CSCI 4366\\Final Project\\nn_f23_shellfish\\../shellfish_dataset/train\\21bc6ceee05ba359_jpg.rf.139c5c64656c1d306335f341ef55ad35.jpg\n",
      "C:\\Users\\black\\OneDrive - The George Washington University\\Fall 2023\\CSCI 4366\\Final Project\\nn_f23_shellfish\\../shellfish_dataset/train\\21bc6ceee05ba359_jpg.rf.139c5c64656c1d306335f341ef55ad35.jpg\n",
      "C:\\Users\\black\\OneDrive - The George Washington University\\Fall 2023\\CSCI 4366\\Final Project\\nn_f23_shellfish\\../shellfish_dataset/train\\21bc6ceee05ba359_jpg.rf.139c5c64656c1d306335f341ef55ad35.jpg\n",
      "C:\\Users\\black\\OneDrive - The George Washington University\\Fall 2023\\CSCI 4366\\Final Project\\nn_f23_shellfish\\../shellfish_dataset/train\\21bc6ceee05ba359_jpg.rf.139c5c64656c1d306335f341ef55ad35.jpg\n",
      "C:\\Users\\black\\OneDrive - The George Washington University\\Fall 2023\\CSCI 4366\\Final Project\\nn_f23_shellfish\\../shellfish_dataset/train\\904bae8271014949_jpg.rf.1423079b9f0a3e37fd3bcc5ca3fe0066.jpg\n",
      "C:\\Users\\black\\OneDrive - The George Washington University\\Fall 2023\\CSCI 4366\\Final Project\\nn_f23_shellfish\\../shellfish_dataset/train\\ada356f1eed040ba_jpg.rf.168f131b94b424f3906159e396871b6f.jpg\n",
      "C:\\Users\\black\\OneDrive - The George Washington University\\Fall 2023\\CSCI 4366\\Final Project\\nn_f23_shellfish\\../shellfish_dataset/train\\a6e3a2bc1bd4319d_jpg.rf.10afad63c0437ededd10432e5a91789a.jpg\n",
      "C:\\Users\\black\\OneDrive - The George Washington University\\Fall 2023\\CSCI 4366\\Final Project\\nn_f23_shellfish\\../shellfish_dataset/train\\048eded95654bd55_jpg.rf.08f7bb48b013759a8365cc97138b77c7.jpg\n",
      "C:\\Users\\black\\OneDrive - The George Washington University\\Fall 2023\\CSCI 4366\\Final Project\\nn_f23_shellfish\\../shellfish_dataset/train\\f4a54018f8aab507_jpg.rf.16e2ab7f2c0d1202c86d6d4d3adee8a4.jpg\n",
      "C:\\Users\\black\\OneDrive - The George Washington University\\Fall 2023\\CSCI 4366\\Final Project\\nn_f23_shellfish\\../shellfish_dataset/train\\f4a54018f8aab507_jpg.rf.16e2ab7f2c0d1202c86d6d4d3adee8a4.jpg\n",
      "C:\\Users\\black\\OneDrive - The George Washington University\\Fall 2023\\CSCI 4366\\Final Project\\nn_f23_shellfish\\../shellfish_dataset/train\\f4a54018f8aab507_jpg.rf.16e2ab7f2c0d1202c86d6d4d3adee8a4.jpg\n",
      "C:\\Users\\black\\OneDrive - The George Washington University\\Fall 2023\\CSCI 4366\\Final Project\\nn_f23_shellfish\\../shellfish_dataset/train\\f4a54018f8aab507_jpg.rf.16e2ab7f2c0d1202c86d6d4d3adee8a4.jpg\n",
      "C:\\Users\\black\\OneDrive - The George Washington University\\Fall 2023\\CSCI 4366\\Final Project\\nn_f23_shellfish\\../shellfish_dataset/train\\f4a54018f8aab507_jpg.rf.16e2ab7f2c0d1202c86d6d4d3adee8a4.jpg\n",
      "C:\\Users\\black\\OneDrive - The George Washington University\\Fall 2023\\CSCI 4366\\Final Project\\nn_f23_shellfish\\../shellfish_dataset/train\\f4a54018f8aab507_jpg.rf.16e2ab7f2c0d1202c86d6d4d3adee8a4.jpg\n",
      "C:\\Users\\black\\OneDrive - The George Washington University\\Fall 2023\\CSCI 4366\\Final Project\\nn_f23_shellfish\\../shellfish_dataset/train\\17adc00501f0a308_jpg.rf.178fa64918c9c8c1e1087e2d1561b4db.jpg\n",
      "C:\\Users\\black\\OneDrive - The George Washington University\\Fall 2023\\CSCI 4366\\Final Project\\nn_f23_shellfish\\../shellfish_dataset/train\\977773453e645ea4_jpg.rf.13fc062856538fb8bdd889240da0ede5.jpg\n",
      "C:\\Users\\black\\OneDrive - The George Washington University\\Fall 2023\\CSCI 4366\\Final Project\\nn_f23_shellfish\\../shellfish_dataset/train\\e916f04f3917c6a6_jpg.rf.161188f618b63692edb06d35e19ee1fe.jpg\n",
      "C:\\Users\\black\\OneDrive - The George Washington University\\Fall 2023\\CSCI 4366\\Final Project\\nn_f23_shellfish\\../shellfish_dataset/train\\4922b99d18aab264_jpg.rf.18f2704fa7339735190653751a47feb8.jpg\n",
      "C:\\Users\\black\\OneDrive - The George Washington University\\Fall 2023\\CSCI 4366\\Final Project\\nn_f23_shellfish\\../shellfish_dataset/train\\4922b99d18aab264_jpg.rf.18f2704fa7339735190653751a47feb8.jpg\n",
      "C:\\Users\\black\\OneDrive - The George Washington University\\Fall 2023\\CSCI 4366\\Final Project\\nn_f23_shellfish\\../shellfish_dataset/train\\08837250bcc50ae2_jpg.rf.142d6c58926ccf93f9cbf6fc1a503370.jpg\n",
      "C:\\Users\\black\\OneDrive - The George Washington University\\Fall 2023\\CSCI 4366\\Final Project\\nn_f23_shellfish\\../shellfish_dataset/train\\08837250bcc50ae2_jpg.rf.142d6c58926ccf93f9cbf6fc1a503370.jpg\n",
      "C:\\Users\\black\\OneDrive - The George Washington University\\Fall 2023\\CSCI 4366\\Final Project\\nn_f23_shellfish\\../shellfish_dataset/train\\08837250bcc50ae2_jpg.rf.142d6c58926ccf93f9cbf6fc1a503370.jpg\n",
      "C:\\Users\\black\\OneDrive - The George Washington University\\Fall 2023\\CSCI 4366\\Final Project\\nn_f23_shellfish\\../shellfish_dataset/train\\08837250bcc50ae2_jpg.rf.142d6c58926ccf93f9cbf6fc1a503370.jpg\n",
      "C:\\Users\\black\\OneDrive - The George Washington University\\Fall 2023\\CSCI 4366\\Final Project\\nn_f23_shellfish\\../shellfish_dataset/train\\08837250bcc50ae2_jpg.rf.142d6c58926ccf93f9cbf6fc1a503370.jpg\n",
      "C:\\Users\\black\\OneDrive - The George Washington University\\Fall 2023\\CSCI 4366\\Final Project\\nn_f23_shellfish\\../shellfish_dataset/train\\0838a995212d57ca_jpg.rf.12b335e459a755cd2b64a50e16a4680a.jpg\n",
      "C:\\Users\\black\\OneDrive - The George Washington University\\Fall 2023\\CSCI 4366\\Final Project\\nn_f23_shellfish\\../shellfish_dataset/train\\1687004b8cac6a9f_jpg.rf.1623d27b4ef74424bc7d862e7306743e.jpg\n",
      "C:\\Users\\black\\OneDrive - The George Washington University\\Fall 2023\\CSCI 4366\\Final Project\\nn_f23_shellfish\\../shellfish_dataset/train\\cf4899ff91bc7e52_jpg.rf.19563bac987ce6db986c87cc863f7817.jpg\n",
      "C:\\Users\\black\\OneDrive - The George Washington University\\Fall 2023\\CSCI 4366\\Final Project\\nn_f23_shellfish\\../shellfish_dataset/train\\62967cbd69759e4c_jpg.rf.1642f1629d52cbfe795bfba27f6a303e.jpg\n",
      "C:\\Users\\black\\OneDrive - The George Washington University\\Fall 2023\\CSCI 4366\\Final Project\\nn_f23_shellfish\\../shellfish_dataset/train\\62967cbd69759e4c_jpg.rf.1642f1629d52cbfe795bfba27f6a303e.jpg\n",
      "C:\\Users\\black\\OneDrive - The George Washington University\\Fall 2023\\CSCI 4366\\Final Project\\nn_f23_shellfish\\../shellfish_dataset/train\\62967cbd69759e4c_jpg.rf.1642f1629d52cbfe795bfba27f6a303e.jpg\n",
      "C:\\Users\\black\\OneDrive - The George Washington University\\Fall 2023\\CSCI 4366\\Final Project\\nn_f23_shellfish\\../shellfish_dataset/train\\425deb1b3a9e78ca_jpg.rf.17b25e9f53905c1ffb8d2ee1bd0c4bff.jpg\n",
      "C:\\Users\\black\\OneDrive - The George Washington University\\Fall 2023\\CSCI 4366\\Final Project\\nn_f23_shellfish\\../shellfish_dataset/train\\86641590c0969dd9_jpg.rf.1804d09eee49035a72bc909174cd53dc.jpg\n",
      "C:\\Users\\black\\OneDrive - The George Washington University\\Fall 2023\\CSCI 4366\\Final Project\\nn_f23_shellfish\\../shellfish_dataset/train\\86641590c0969dd9_jpg.rf.1804d09eee49035a72bc909174cd53dc.jpg\n",
      "C:\\Users\\black\\OneDrive - The George Washington University\\Fall 2023\\CSCI 4366\\Final Project\\nn_f23_shellfish\\../shellfish_dataset/train\\86641590c0969dd9_jpg.rf.1804d09eee49035a72bc909174cd53dc.jpg\n",
      "C:\\Users\\black\\OneDrive - The George Washington University\\Fall 2023\\CSCI 4366\\Final Project\\nn_f23_shellfish\\../shellfish_dataset/train\\4edcac213e49301a_jpg.rf.14edbb5ca177ceb2b117dbba491d5295.jpg\n",
      "C:\\Users\\black\\OneDrive - The George Washington University\\Fall 2023\\CSCI 4366\\Final Project\\nn_f23_shellfish\\../shellfish_dataset/train\\4edcac213e49301a_jpg.rf.14edbb5ca177ceb2b117dbba491d5295.jpg\n",
      "C:\\Users\\black\\OneDrive - The George Washington University\\Fall 2023\\CSCI 4366\\Final Project\\nn_f23_shellfish\\../shellfish_dataset/train\\b0e68f6b4ddbfa8c_jpg.rf.12cdee0efd14b3daddcd47bc501fa0e9.jpg\n",
      "C:\\Users\\black\\OneDrive - The George Washington University\\Fall 2023\\CSCI 4366\\Final Project\\nn_f23_shellfish\\../shellfish_dataset/train\\b0e68f6b4ddbfa8c_jpg.rf.12cdee0efd14b3daddcd47bc501fa0e9.jpg\n",
      "C:\\Users\\black\\OneDrive - The George Washington University\\Fall 2023\\CSCI 4366\\Final Project\\nn_f23_shellfish\\../shellfish_dataset/train\\083ef28b058fa4fc_jpg.rf.1a24ba1627bb3a28759495e721b582c9.jpg\n",
      "C:\\Users\\black\\OneDrive - The George Washington University\\Fall 2023\\CSCI 4366\\Final Project\\nn_f23_shellfish\\../shellfish_dataset/train\\b6b97905ae846cac_jpg.rf.1a78ce85a2406c017cd5b0618e40fc1b.jpg\n",
      "C:\\Users\\black\\OneDrive - The George Washington University\\Fall 2023\\CSCI 4366\\Final Project\\nn_f23_shellfish\\../shellfish_dataset/train\\b6b97905ae846cac_jpg.rf.1a78ce85a2406c017cd5b0618e40fc1b.jpg\n",
      "C:\\Users\\black\\OneDrive - The George Washington University\\Fall 2023\\CSCI 4366\\Final Project\\nn_f23_shellfish\\../shellfish_dataset/train\\a6a651b26a6a42f5_jpg.rf.1b56d65c8e61853bd8421ffc5af7956d.jpg\n",
      "C:\\Users\\black\\OneDrive - The George Washington University\\Fall 2023\\CSCI 4366\\Final Project\\nn_f23_shellfish\\../shellfish_dataset/train\\a6a651b26a6a42f5_jpg.rf.1b56d65c8e61853bd8421ffc5af7956d.jpg\n",
      "C:\\Users\\black\\OneDrive - The George Washington University\\Fall 2023\\CSCI 4366\\Final Project\\nn_f23_shellfish\\../shellfish_dataset/train\\a6a651b26a6a42f5_jpg.rf.1b56d65c8e61853bd8421ffc5af7956d.jpg\n",
      "C:\\Users\\black\\OneDrive - The George Washington University\\Fall 2023\\CSCI 4366\\Final Project\\nn_f23_shellfish\\../shellfish_dataset/train\\a6a651b26a6a42f5_jpg.rf.1b56d65c8e61853bd8421ffc5af7956d.jpg\n",
      "C:\\Users\\black\\OneDrive - The George Washington University\\Fall 2023\\CSCI 4366\\Final Project\\nn_f23_shellfish\\../shellfish_dataset/train\\a6a651b26a6a42f5_jpg.rf.1b56d65c8e61853bd8421ffc5af7956d.jpg\n",
      "C:\\Users\\black\\OneDrive - The George Washington University\\Fall 2023\\CSCI 4366\\Final Project\\nn_f23_shellfish\\../shellfish_dataset/train\\a6a651b26a6a42f5_jpg.rf.1b56d65c8e61853bd8421ffc5af7956d.jpg\n",
      "C:\\Users\\black\\OneDrive - The George Washington University\\Fall 2023\\CSCI 4366\\Final Project\\nn_f23_shellfish\\../shellfish_dataset/train\\a6a651b26a6a42f5_jpg.rf.1b56d65c8e61853bd8421ffc5af7956d.jpg\n",
      "C:\\Users\\black\\OneDrive - The George Washington University\\Fall 2023\\CSCI 4366\\Final Project\\nn_f23_shellfish\\../shellfish_dataset/train\\07f2cdaaa7d51228_jpg.rf.19952bcd36233326c10801e4fc0e0fc0.jpg\n",
      "C:\\Users\\black\\OneDrive - The George Washington University\\Fall 2023\\CSCI 4366\\Final Project\\nn_f23_shellfish\\../shellfish_dataset/train\\9edb94f268d33c4c_jpg.rf.15ad1324e3fc26b27b1bd9e4367ca47a.jpg\n",
      "C:\\Users\\black\\OneDrive - The George Washington University\\Fall 2023\\CSCI 4366\\Final Project\\nn_f23_shellfish\\../shellfish_dataset/train\\9edb94f268d33c4c_jpg.rf.15ad1324e3fc26b27b1bd9e4367ca47a.jpg\n",
      "C:\\Users\\black\\OneDrive - The George Washington University\\Fall 2023\\CSCI 4366\\Final Project\\nn_f23_shellfish\\../shellfish_dataset/train\\9edb94f268d33c4c_jpg.rf.15ad1324e3fc26b27b1bd9e4367ca47a.jpg\n",
      "C:\\Users\\black\\OneDrive - The George Washington University\\Fall 2023\\CSCI 4366\\Final Project\\nn_f23_shellfish\\../shellfish_dataset/train\\9edb94f268d33c4c_jpg.rf.15ad1324e3fc26b27b1bd9e4367ca47a.jpg\n",
      "C:\\Users\\black\\OneDrive - The George Washington University\\Fall 2023\\CSCI 4366\\Final Project\\nn_f23_shellfish\\../shellfish_dataset/train\\9edb94f268d33c4c_jpg.rf.15ad1324e3fc26b27b1bd9e4367ca47a.jpg\n",
      "C:\\Users\\black\\OneDrive - The George Washington University\\Fall 2023\\CSCI 4366\\Final Project\\nn_f23_shellfish\\../shellfish_dataset/train\\00f0c5d0810d1c2a_jpg.rf.19517abdca594b7b9dbce2a8a2049f64.jpg\n",
      "C:\\Users\\black\\OneDrive - The George Washington University\\Fall 2023\\CSCI 4366\\Final Project\\nn_f23_shellfish\\../shellfish_dataset/train\\d4f3b12b908fd096_jpg.rf.1426dd8b2c985c6792f8b1a7add3ad39.jpg\n",
      "C:\\Users\\black\\OneDrive - The George Washington University\\Fall 2023\\CSCI 4366\\Final Project\\nn_f23_shellfish\\../shellfish_dataset/train\\d4f3b12b908fd096_jpg.rf.1426dd8b2c985c6792f8b1a7add3ad39.jpg\n",
      "C:\\Users\\black\\OneDrive - The George Washington University\\Fall 2023\\CSCI 4366\\Final Project\\nn_f23_shellfish\\../shellfish_dataset/train\\c0de24dc24a4b6bf_jpg.rf.1b9e8209ab53a5d3e25a3acfce92b0ca.jpg\n",
      "C:\\Users\\black\\OneDrive - The George Washington University\\Fall 2023\\CSCI 4366\\Final Project\\nn_f23_shellfish\\../shellfish_dataset/train\\c0de24dc24a4b6bf_jpg.rf.1b9e8209ab53a5d3e25a3acfce92b0ca.jpg\n",
      "C:\\Users\\black\\OneDrive - The George Washington University\\Fall 2023\\CSCI 4366\\Final Project\\nn_f23_shellfish\\../shellfish_dataset/train\\c0de24dc24a4b6bf_jpg.rf.1b9e8209ab53a5d3e25a3acfce92b0ca.jpg\n",
      "C:\\Users\\black\\OneDrive - The George Washington University\\Fall 2023\\CSCI 4366\\Final Project\\nn_f23_shellfish\\../shellfish_dataset/train\\30fbf1cef3492b44_jpg.rf.18709d8c2b63164ad10980f8fa21506a.jpg\n",
      "C:\\Users\\black\\OneDrive - The George Washington University\\Fall 2023\\CSCI 4366\\Final Project\\nn_f23_shellfish\\../shellfish_dataset/train\\30fbf1cef3492b44_jpg.rf.18709d8c2b63164ad10980f8fa21506a.jpg\n",
      "C:\\Users\\black\\OneDrive - The George Washington University\\Fall 2023\\CSCI 4366\\Final Project\\nn_f23_shellfish\\../shellfish_dataset/train\\30fbf1cef3492b44_jpg.rf.18709d8c2b63164ad10980f8fa21506a.jpg\n",
      "C:\\Users\\black\\OneDrive - The George Washington University\\Fall 2023\\CSCI 4366\\Final Project\\nn_f23_shellfish\\../shellfish_dataset/train\\30fbf1cef3492b44_jpg.rf.18709d8c2b63164ad10980f8fa21506a.jpg\n",
      "C:\\Users\\black\\OneDrive - The George Washington University\\Fall 2023\\CSCI 4366\\Final Project\\nn_f23_shellfish\\../shellfish_dataset/train\\30fbf1cef3492b44_jpg.rf.18709d8c2b63164ad10980f8fa21506a.jpg\n",
      "C:\\Users\\black\\OneDrive - The George Washington University\\Fall 2023\\CSCI 4366\\Final Project\\nn_f23_shellfish\\../shellfish_dataset/train\\30fbf1cef3492b44_jpg.rf.18709d8c2b63164ad10980f8fa21506a.jpg\n",
      "C:\\Users\\black\\OneDrive - The George Washington University\\Fall 2023\\CSCI 4366\\Final Project\\nn_f23_shellfish\\../shellfish_dataset/train\\95913a043fa59e8e_jpg.rf.1aeecd792b34fb011c8b87dfc134fb91.jpg\n",
      "C:\\Users\\black\\OneDrive - The George Washington University\\Fall 2023\\CSCI 4366\\Final Project\\nn_f23_shellfish\\../shellfish_dataset/train\\47ea2d214e37585a_jpg.rf.1de6f7af4ccbb32bf5da119d723bb774.jpg\n",
      "C:\\Users\\black\\OneDrive - The George Washington University\\Fall 2023\\CSCI 4366\\Final Project\\nn_f23_shellfish\\../shellfish_dataset/train\\e2c98433fb315c42_jpg.rf.249f19fd91a80360ded1804b62b5026d.jpg\n",
      "C:\\Users\\black\\OneDrive - The George Washington University\\Fall 2023\\CSCI 4366\\Final Project\\nn_f23_shellfish\\../shellfish_dataset/train\\a4500a7f6ad248bf_jpg.rf.19498f1d80deaacf91cba55dcba1798f.jpg\n",
      "C:\\Users\\black\\OneDrive - The George Washington University\\Fall 2023\\CSCI 4366\\Final Project\\nn_f23_shellfish\\../shellfish_dataset/train\\a4500a7f6ad248bf_jpg.rf.19498f1d80deaacf91cba55dcba1798f.jpg\n",
      "C:\\Users\\black\\OneDrive - The George Washington University\\Fall 2023\\CSCI 4366\\Final Project\\nn_f23_shellfish\\../shellfish_dataset/train\\a4500a7f6ad248bf_jpg.rf.19498f1d80deaacf91cba55dcba1798f.jpg\n",
      "C:\\Users\\black\\OneDrive - The George Washington University\\Fall 2023\\CSCI 4366\\Final Project\\nn_f23_shellfish\\../shellfish_dataset/train\\f00daee402228b57_jpg.rf.23110293b1679baf8f4bf7ecb39f4ec7.jpg\n",
      "C:\\Users\\black\\OneDrive - The George Washington University\\Fall 2023\\CSCI 4366\\Final Project\\nn_f23_shellfish\\../shellfish_dataset/train\\f00daee402228b57_jpg.rf.23110293b1679baf8f4bf7ecb39f4ec7.jpg\n",
      "C:\\Users\\black\\OneDrive - The George Washington University\\Fall 2023\\CSCI 4366\\Final Project\\nn_f23_shellfish\\../shellfish_dataset/train\\f00daee402228b57_jpg.rf.23110293b1679baf8f4bf7ecb39f4ec7.jpg\n",
      "C:\\Users\\black\\OneDrive - The George Washington University\\Fall 2023\\CSCI 4366\\Final Project\\nn_f23_shellfish\\../shellfish_dataset/train\\8b402e2e102aeaad_jpg.rf.28af4bc897fc6f5597713141a4b4d34e.jpg\n",
      "C:\\Users\\black\\OneDrive - The George Washington University\\Fall 2023\\CSCI 4366\\Final Project\\nn_f23_shellfish\\../shellfish_dataset/train\\bcd03c6598517f1b_jpg.rf.26e506309292cb128769cc8de2b716ad.jpg\n",
      "C:\\Users\\black\\OneDrive - The George Washington University\\Fall 2023\\CSCI 4366\\Final Project\\nn_f23_shellfish\\../shellfish_dataset/train\\02647df3837d0ac3_jpg.rf.237851349a8f6ff56899d7903876d64b.jpg\n",
      "C:\\Users\\black\\OneDrive - The George Washington University\\Fall 2023\\CSCI 4366\\Final Project\\nn_f23_shellfish\\../shellfish_dataset/train\\a433a231aedb23a5_jpg.rf.202b7ca1135549c636a5b24bbd8418e4.jpg\n",
      "C:\\Users\\black\\OneDrive - The George Washington University\\Fall 2023\\CSCI 4366\\Final Project\\nn_f23_shellfish\\../shellfish_dataset/train\\a433a231aedb23a5_jpg.rf.202b7ca1135549c636a5b24bbd8418e4.jpg\n",
      "C:\\Users\\black\\OneDrive - The George Washington University\\Fall 2023\\CSCI 4366\\Final Project\\nn_f23_shellfish\\../shellfish_dataset/train\\a433a231aedb23a5_jpg.rf.202b7ca1135549c636a5b24bbd8418e4.jpg\n",
      "C:\\Users\\black\\OneDrive - The George Washington University\\Fall 2023\\CSCI 4366\\Final Project\\nn_f23_shellfish\\../shellfish_dataset/train\\a433a231aedb23a5_jpg.rf.202b7ca1135549c636a5b24bbd8418e4.jpg\n",
      "C:\\Users\\black\\OneDrive - The George Washington University\\Fall 2023\\CSCI 4366\\Final Project\\nn_f23_shellfish\\../shellfish_dataset/train\\00c31c5d33c0b882_jpg.rf.2235510a84f36e01a72187162d3493aa.jpg\n",
      "C:\\Users\\black\\OneDrive - The George Washington University\\Fall 2023\\CSCI 4366\\Final Project\\nn_f23_shellfish\\../shellfish_dataset/train\\2245780848316219_jpg.rf.250a8ff8b09bfea9b13a0eec06223ccc.jpg\n",
      "C:\\Users\\black\\OneDrive - The George Washington University\\Fall 2023\\CSCI 4366\\Final Project\\nn_f23_shellfish\\../shellfish_dataset/train\\63dafcfd5e76562b_jpg.rf.249bf61c8a6999728f3e37896fe3b7a2.jpg\n",
      "C:\\Users\\black\\OneDrive - The George Washington University\\Fall 2023\\CSCI 4366\\Final Project\\nn_f23_shellfish\\../shellfish_dataset/train\\d647c4054c5d0839_jpg.rf.2b7594a62748c8a4247ac1779c57eec1.jpg\n",
      "C:\\Users\\black\\OneDrive - The George Washington University\\Fall 2023\\CSCI 4366\\Final Project\\nn_f23_shellfish\\../shellfish_dataset/train\\d647c4054c5d0839_jpg.rf.2b7594a62748c8a4247ac1779c57eec1.jpg\n",
      "C:\\Users\\black\\OneDrive - The George Washington University\\Fall 2023\\CSCI 4366\\Final Project\\nn_f23_shellfish\\../shellfish_dataset/train\\d647c4054c5d0839_jpg.rf.2b7594a62748c8a4247ac1779c57eec1.jpg\n",
      "C:\\Users\\black\\OneDrive - The George Washington University\\Fall 2023\\CSCI 4366\\Final Project\\nn_f23_shellfish\\../shellfish_dataset/train\\d647c4054c5d0839_jpg.rf.2b7594a62748c8a4247ac1779c57eec1.jpg\n",
      "C:\\Users\\black\\OneDrive - The George Washington University\\Fall 2023\\CSCI 4366\\Final Project\\nn_f23_shellfish\\../shellfish_dataset/train\\d647c4054c5d0839_jpg.rf.2b7594a62748c8a4247ac1779c57eec1.jpg\n",
      "C:\\Users\\black\\OneDrive - The George Washington University\\Fall 2023\\CSCI 4366\\Final Project\\nn_f23_shellfish\\../shellfish_dataset/train\\0be7dac4f4242d57_jpg.rf.21cb435c654b77304b3c97adf8286c5a.jpg\n",
      "C:\\Users\\black\\OneDrive - The George Washington University\\Fall 2023\\CSCI 4366\\Final Project\\nn_f23_shellfish\\../shellfish_dataset/train\\23fe6f463f35929a_jpg.rf.1ba1121ec5029f043139728eae773986.jpg\n",
      "C:\\Users\\black\\OneDrive - The George Washington University\\Fall 2023\\CSCI 4366\\Final Project\\nn_f23_shellfish\\../shellfish_dataset/train\\a15d10989d6da3ec_jpg.rf.26b07881d8090d84eb66b8e3ddea833c.jpg\n",
      "C:\\Users\\black\\OneDrive - The George Washington University\\Fall 2023\\CSCI 4366\\Final Project\\nn_f23_shellfish\\../shellfish_dataset/train\\9965cbf8aa20bda0_jpg.rf.1c1a508e2a1f96383898f48b645d558c.jpg\n",
      "C:\\Users\\black\\OneDrive - The George Washington University\\Fall 2023\\CSCI 4366\\Final Project\\nn_f23_shellfish\\../shellfish_dataset/train\\b4a577eaeb8c929f_jpg.rf.21ac2688a38fb5f56a9d527267493712.jpg\n",
      "C:\\Users\\black\\OneDrive - The George Washington University\\Fall 2023\\CSCI 4366\\Final Project\\nn_f23_shellfish\\../shellfish_dataset/train\\b4a577eaeb8c929f_jpg.rf.21ac2688a38fb5f56a9d527267493712.jpg\n",
      "C:\\Users\\black\\OneDrive - The George Washington University\\Fall 2023\\CSCI 4366\\Final Project\\nn_f23_shellfish\\../shellfish_dataset/train\\2eafb10f9f82c8c4_jpg.rf.242122387a8ba078bc5b38cfb9d16ebb.jpg\n",
      "C:\\Users\\black\\OneDrive - The George Washington University\\Fall 2023\\CSCI 4366\\Final Project\\nn_f23_shellfish\\../shellfish_dataset/train\\f2b1eab74ad22e20_jpg.rf.27468e3da67faf3f098b3a9f8d204035.jpg\n",
      "C:\\Users\\black\\OneDrive - The George Washington University\\Fall 2023\\CSCI 4366\\Final Project\\nn_f23_shellfish\\../shellfish_dataset/train\\f2b1eab74ad22e20_jpg.rf.27468e3da67faf3f098b3a9f8d204035.jpg\n",
      "C:\\Users\\black\\OneDrive - The George Washington University\\Fall 2023\\CSCI 4366\\Final Project\\nn_f23_shellfish\\../shellfish_dataset/train\\f2b1eab74ad22e20_jpg.rf.27468e3da67faf3f098b3a9f8d204035.jpg\n",
      "C:\\Users\\black\\OneDrive - The George Washington University\\Fall 2023\\CSCI 4366\\Final Project\\nn_f23_shellfish\\../shellfish_dataset/train\\f2b1eab74ad22e20_jpg.rf.27468e3da67faf3f098b3a9f8d204035.jpg\n",
      "C:\\Users\\black\\OneDrive - The George Washington University\\Fall 2023\\CSCI 4366\\Final Project\\nn_f23_shellfish\\../shellfish_dataset/train\\f2b1eab74ad22e20_jpg.rf.27468e3da67faf3f098b3a9f8d204035.jpg\n",
      "C:\\Users\\black\\OneDrive - The George Washington University\\Fall 2023\\CSCI 4366\\Final Project\\nn_f23_shellfish\\../shellfish_dataset/train\\b2ffe3167757db40_jpg.rf.2ae62063112c5f85005c1847206e8618.jpg\n",
      "C:\\Users\\black\\OneDrive - The George Washington University\\Fall 2023\\CSCI 4366\\Final Project\\nn_f23_shellfish\\../shellfish_dataset/train\\111864abc3d6ab85_jpg.rf.2ad77148f06939d076f5236e98c6afd9.jpg\n",
      "C:\\Users\\black\\OneDrive - The George Washington University\\Fall 2023\\CSCI 4366\\Final Project\\nn_f23_shellfish\\../shellfish_dataset/train\\1a072926beaaedff_jpg.rf.1f8651cf6ffe3670fdd1a6ca75621bc2.jpg\n",
      "C:\\Users\\black\\OneDrive - The George Washington University\\Fall 2023\\CSCI 4366\\Final Project\\nn_f23_shellfish\\../shellfish_dataset/train\\0b7bfc590045b08c_jpg.rf.2c10cee5bd634292a8aa7f20fa389a6d.jpg\n",
      "C:\\Users\\black\\OneDrive - The George Washington University\\Fall 2023\\CSCI 4366\\Final Project\\nn_f23_shellfish\\../shellfish_dataset/train\\b7ad866991e0ecdd_jpg.rf.29823c412d3732ead684ff2e7da668e2.jpg\n",
      "C:\\Users\\black\\OneDrive - The George Washington University\\Fall 2023\\CSCI 4366\\Final Project\\nn_f23_shellfish\\../shellfish_dataset/train\\b7ad866991e0ecdd_jpg.rf.29823c412d3732ead684ff2e7da668e2.jpg\n",
      "C:\\Users\\black\\OneDrive - The George Washington University\\Fall 2023\\CSCI 4366\\Final Project\\nn_f23_shellfish\\../shellfish_dataset/train\\b7ad866991e0ecdd_jpg.rf.29823c412d3732ead684ff2e7da668e2.jpg\n",
      "C:\\Users\\black\\OneDrive - The George Washington University\\Fall 2023\\CSCI 4366\\Final Project\\nn_f23_shellfish\\../shellfish_dataset/train\\b7ad866991e0ecdd_jpg.rf.29823c412d3732ead684ff2e7da668e2.jpg\n",
      "C:\\Users\\black\\OneDrive - The George Washington University\\Fall 2023\\CSCI 4366\\Final Project\\nn_f23_shellfish\\../shellfish_dataset/train\\b7ad866991e0ecdd_jpg.rf.29823c412d3732ead684ff2e7da668e2.jpg\n",
      "C:\\Users\\black\\OneDrive - The George Washington University\\Fall 2023\\CSCI 4366\\Final Project\\nn_f23_shellfish\\../shellfish_dataset/train\\b7ad866991e0ecdd_jpg.rf.29823c412d3732ead684ff2e7da668e2.jpg\n",
      "C:\\Users\\black\\OneDrive - The George Washington University\\Fall 2023\\CSCI 4366\\Final Project\\nn_f23_shellfish\\../shellfish_dataset/train\\b7ad866991e0ecdd_jpg.rf.29823c412d3732ead684ff2e7da668e2.jpg\n",
      "C:\\Users\\black\\OneDrive - The George Washington University\\Fall 2023\\CSCI 4366\\Final Project\\nn_f23_shellfish\\../shellfish_dataset/train\\b7ad866991e0ecdd_jpg.rf.29823c412d3732ead684ff2e7da668e2.jpg\n",
      "C:\\Users\\black\\OneDrive - The George Washington University\\Fall 2023\\CSCI 4366\\Final Project\\nn_f23_shellfish\\../shellfish_dataset/train\\b7ad866991e0ecdd_jpg.rf.29823c412d3732ead684ff2e7da668e2.jpg\n",
      "C:\\Users\\black\\OneDrive - The George Washington University\\Fall 2023\\CSCI 4366\\Final Project\\nn_f23_shellfish\\../shellfish_dataset/train\\b7ad866991e0ecdd_jpg.rf.29823c412d3732ead684ff2e7da668e2.jpg\n",
      "C:\\Users\\black\\OneDrive - The George Washington University\\Fall 2023\\CSCI 4366\\Final Project\\nn_f23_shellfish\\../shellfish_dataset/train\\b7ad866991e0ecdd_jpg.rf.29823c412d3732ead684ff2e7da668e2.jpg\n",
      "C:\\Users\\black\\OneDrive - The George Washington University\\Fall 2023\\CSCI 4366\\Final Project\\nn_f23_shellfish\\../shellfish_dataset/train\\b7ad866991e0ecdd_jpg.rf.29823c412d3732ead684ff2e7da668e2.jpg\n",
      "C:\\Users\\black\\OneDrive - The George Washington University\\Fall 2023\\CSCI 4366\\Final Project\\nn_f23_shellfish\\../shellfish_dataset/train\\be1a10df25278693_jpg.rf.321450aa533aa2644f5a297e981a48b1.jpg\n",
      "C:\\Users\\black\\OneDrive - The George Washington University\\Fall 2023\\CSCI 4366\\Final Project\\nn_f23_shellfish\\../shellfish_dataset/train\\be1a10df25278693_jpg.rf.321450aa533aa2644f5a297e981a48b1.jpg\n",
      "C:\\Users\\black\\OneDrive - The George Washington University\\Fall 2023\\CSCI 4366\\Final Project\\nn_f23_shellfish\\../shellfish_dataset/train\\be1a10df25278693_jpg.rf.321450aa533aa2644f5a297e981a48b1.jpg\n",
      "C:\\Users\\black\\OneDrive - The George Washington University\\Fall 2023\\CSCI 4366\\Final Project\\nn_f23_shellfish\\../shellfish_dataset/train\\be1a10df25278693_jpg.rf.321450aa533aa2644f5a297e981a48b1.jpg\n",
      "C:\\Users\\black\\OneDrive - The George Washington University\\Fall 2023\\CSCI 4366\\Final Project\\nn_f23_shellfish\\../shellfish_dataset/train\\be1a10df25278693_jpg.rf.321450aa533aa2644f5a297e981a48b1.jpg\n",
      "C:\\Users\\black\\OneDrive - The George Washington University\\Fall 2023\\CSCI 4366\\Final Project\\nn_f23_shellfish\\../shellfish_dataset/train\\36203afbea92f47f_jpg.rf.23b14ead51de0bc1f8b861bedbae6658.jpg\n",
      "C:\\Users\\black\\OneDrive - The George Washington University\\Fall 2023\\CSCI 4366\\Final Project\\nn_f23_shellfish\\../shellfish_dataset/train\\13ef71865068fee5_jpg.rf.1bf9648d3a16e3ae6a6f6c353603508a.jpg\n",
      "C:\\Users\\black\\OneDrive - The George Washington University\\Fall 2023\\CSCI 4366\\Final Project\\nn_f23_shellfish\\../shellfish_dataset/train\\13ef71865068fee5_jpg.rf.1bf9648d3a16e3ae6a6f6c353603508a.jpg\n",
      "C:\\Users\\black\\OneDrive - The George Washington University\\Fall 2023\\CSCI 4366\\Final Project\\nn_f23_shellfish\\../shellfish_dataset/train\\13ef71865068fee5_jpg.rf.1bf9648d3a16e3ae6a6f6c353603508a.jpg\n",
      "C:\\Users\\black\\OneDrive - The George Washington University\\Fall 2023\\CSCI 4366\\Final Project\\nn_f23_shellfish\\../shellfish_dataset/train\\14c6a7ae32f0e04f_jpg.rf.2d1d35fec018c9fa8e47a56b849cf0fa.jpg\n",
      "C:\\Users\\black\\OneDrive - The George Washington University\\Fall 2023\\CSCI 4366\\Final Project\\nn_f23_shellfish\\../shellfish_dataset/train\\14c6a7ae32f0e04f_jpg.rf.2d1d35fec018c9fa8e47a56b849cf0fa.jpg\n",
      "C:\\Users\\black\\OneDrive - The George Washington University\\Fall 2023\\CSCI 4366\\Final Project\\nn_f23_shellfish\\../shellfish_dataset/train\\0ad1c087a455e645_jpg.rf.2ecb7412f3b15ef478db05ebfcb01baf.jpg\n",
      "C:\\Users\\black\\OneDrive - The George Washington University\\Fall 2023\\CSCI 4366\\Final Project\\nn_f23_shellfish\\../shellfish_dataset/train\\0ad1c087a455e645_jpg.rf.2ecb7412f3b15ef478db05ebfcb01baf.jpg\n",
      "C:\\Users\\black\\OneDrive - The George Washington University\\Fall 2023\\CSCI 4366\\Final Project\\nn_f23_shellfish\\../shellfish_dataset/train\\0e52d592eae8cdc5_jpg.rf.2fd0dde4d433184ddaddb387269647e3.jpg\n",
      "C:\\Users\\black\\OneDrive - The George Washington University\\Fall 2023\\CSCI 4366\\Final Project\\nn_f23_shellfish\\../shellfish_dataset/train\\0e52d592eae8cdc5_jpg.rf.2fd0dde4d433184ddaddb387269647e3.jpg\n",
      "C:\\Users\\black\\OneDrive - The George Washington University\\Fall 2023\\CSCI 4366\\Final Project\\nn_f23_shellfish\\../shellfish_dataset/train\\0e52d592eae8cdc5_jpg.rf.2fd0dde4d433184ddaddb387269647e3.jpg\n",
      "C:\\Users\\black\\OneDrive - The George Washington University\\Fall 2023\\CSCI 4366\\Final Project\\nn_f23_shellfish\\../shellfish_dataset/train\\0e52d592eae8cdc5_jpg.rf.2fd0dde4d433184ddaddb387269647e3.jpg\n",
      "C:\\Users\\black\\OneDrive - The George Washington University\\Fall 2023\\CSCI 4366\\Final Project\\nn_f23_shellfish\\../shellfish_dataset/train\\0e52d592eae8cdc5_jpg.rf.2fd0dde4d433184ddaddb387269647e3.jpg\n"
     ]
    },
    {
     "ename": "MemoryError",
     "evalue": "Unable to allocate 1.98 MiB for an array with shape (416, 416, 3) and data type float32",
     "output_type": "error",
     "traceback": [
      "\u001b[1;31m---------------------------------------------------------------------------\u001b[0m",
      "\u001b[1;31mMemoryError\u001b[0m                               Traceback (most recent call last)",
      "Cell \u001b[1;32mIn[12], line 10\u001b[0m\n\u001b[0;32m      7\u001b[0m VALIDATION_IMAGE_DIR \u001b[38;5;241m=\u001b[39m \u001b[38;5;124m'\u001b[39m\u001b[38;5;124m../shellfish_dataset/valid\u001b[39m\u001b[38;5;124m'\u001b[39m\n\u001b[0;32m      8\u001b[0m TESTING_IMAGE_DIR \u001b[38;5;241m=\u001b[39m \u001b[38;5;124m'\u001b[39m\u001b[38;5;124m../shellfish_dataset/test\u001b[39m\u001b[38;5;124m'\u001b[39m\n\u001b[1;32m---> 10\u001b[0m train_images, train_targets, train_labels \u001b[38;5;241m=\u001b[39m \u001b[43mload_and_process_data\u001b[49m\u001b[43m(\u001b[49m\u001b[43mTRAINING_CSV_FILE\u001b[49m\u001b[43m,\u001b[49m\u001b[43m \u001b[49m\u001b[43mTRAINING_IMAGE_DIR\u001b[49m\u001b[43m)\u001b[49m\n\u001b[0;32m     11\u001b[0m validation_images, validation_targets, validation_labels \u001b[38;5;241m=\u001b[39m load_and_process_data(VALIDATION_CSV_FILE, VALIDATION_IMAGE_DIR)\n\u001b[0;32m     12\u001b[0m test_images, test_targets, test_labels \u001b[38;5;241m=\u001b[39m load_and_process_data(TESTING_CSV_FILE, TESTING_IMAGE_DIR)\n",
      "Cell \u001b[1;32mIn[11], line 16\u001b[0m, in \u001b[0;36mload_and_process_data\u001b[1;34m(csv_file, image_dir)\u001b[0m\n\u001b[0;32m     14\u001b[0m \u001b[38;5;28mprint\u001b[39m(image_fullpath)\n\u001b[0;32m     15\u001b[0m img \u001b[38;5;241m=\u001b[39m keras\u001b[38;5;241m.\u001b[39mpreprocessing\u001b[38;5;241m.\u001b[39mimage\u001b[38;5;241m.\u001b[39mload_img(image_fullpath)\n\u001b[1;32m---> 16\u001b[0m img_arr \u001b[38;5;241m=\u001b[39m \u001b[43mkeras\u001b[49m\u001b[38;5;241;43m.\u001b[39;49m\u001b[43mpreprocessing\u001b[49m\u001b[38;5;241;43m.\u001b[39;49m\u001b[43mimage\u001b[49m\u001b[38;5;241;43m.\u001b[39;49m\u001b[43mimg_to_array\u001b[49m\u001b[43m(\u001b[49m\u001b[43mimg\u001b[49m\u001b[43m)\u001b[49m\n\u001b[0;32m     17\u001b[0m \u001b[38;5;66;03m# print(img_arr.shape)\u001b[39;00m\n\u001b[0;32m     19\u001b[0m xmin \u001b[38;5;241m=\u001b[39m \u001b[38;5;28mround\u001b[39m(xmin\u001b[38;5;241m/\u001b[39m width, \u001b[38;5;241m2\u001b[39m)\n",
      "File \u001b[1;32m~\\OneDrive - The George Washington University\\Fall 2023\\CSCI 4366\\env\\Lib\\site-packages\\keras\\src\\utils\\image_utils.py:324\u001b[0m, in \u001b[0;36mimg_to_array\u001b[1;34m(img, data_format, dtype)\u001b[0m\n\u001b[0;32m    320\u001b[0m     \u001b[38;5;28;01mraise\u001b[39;00m \u001b[38;5;167;01mValueError\u001b[39;00m(\u001b[38;5;124mf\u001b[39m\u001b[38;5;124m\"\u001b[39m\u001b[38;5;124mUnknown data_format: \u001b[39m\u001b[38;5;132;01m{\u001b[39;00mdata_format\u001b[38;5;132;01m}\u001b[39;00m\u001b[38;5;124m\"\u001b[39m)\n\u001b[0;32m    321\u001b[0m \u001b[38;5;66;03m# Numpy array x has format (height, width, channel)\u001b[39;00m\n\u001b[0;32m    322\u001b[0m \u001b[38;5;66;03m# or (channel, height, width)\u001b[39;00m\n\u001b[0;32m    323\u001b[0m \u001b[38;5;66;03m# but original PIL image has format (width, height, channel)\u001b[39;00m\n\u001b[1;32m--> 324\u001b[0m x \u001b[38;5;241m=\u001b[39m np\u001b[38;5;241m.\u001b[39masarray(img, dtype\u001b[38;5;241m=\u001b[39mdtype)\n\u001b[0;32m    325\u001b[0m \u001b[38;5;28;01mif\u001b[39;00m \u001b[38;5;28mlen\u001b[39m(x\u001b[38;5;241m.\u001b[39mshape) \u001b[38;5;241m==\u001b[39m \u001b[38;5;241m3\u001b[39m:\n\u001b[0;32m    326\u001b[0m     \u001b[38;5;28;01mif\u001b[39;00m data_format \u001b[38;5;241m==\u001b[39m \u001b[38;5;124m\"\u001b[39m\u001b[38;5;124mchannels_first\u001b[39m\u001b[38;5;124m\"\u001b[39m:\n",
      "\u001b[1;31mMemoryError\u001b[0m: Unable to allocate 1.98 MiB for an array with shape (416, 416, 3) and data type float32"
     ]
    }
   ],
   "source": [
    "# load and preprocess datasets\n",
    "TRAINING_CSV_FILE = '../shellfish_dataset/train/_annotations.csv'\n",
    "VALIDATION_CSV_FILE = '../shellfish_dataset/valid/_annotations.csv'\n",
    "TESTING_CSV_FILE = '../shellfish_dataset/test/_annotations.csv'\n",
    "\n",
    "TRAINING_IMAGE_DIR = '../shellfish_dataset/train'\n",
    "VALIDATION_IMAGE_DIR = '../shellfish_dataset/valid'\n",
    "TESTING_IMAGE_DIR = '../shellfish_dataset/test'\n",
    "\n",
    "train_images, train_targets, train_labels = load_and_process_data(TRAINING_CSV_FILE, TRAINING_IMAGE_DIR)\n",
    "validation_images, validation_targets, validation_labels = load_and_process_data(VALIDATION_CSV_FILE, VALIDATION_IMAGE_DIR)\n",
    "test_images, test_targets, test_labels = load_and_process_data(TESTING_CSV_FILE, TESTING_IMAGE_DIR)"
   ]
  },
  {
   "cell_type": "code",
   "execution_count": null,
   "metadata": {
    "id": "uDfjeoLDhvbm"
   },
   "outputs": [],
   "source": [
    "# #create the common input layer\n",
    "# input_shape = (height, width, 3)\n",
    "# input_layer = tf.keras.layers.Input(input_shape)\n",
    "\n",
    "# #create the base layers\n",
    "# base_layers = layers.experimental.preprocessing.Rescaling(1./255, name='bl_1')(input_layer) #normalize pixel range\n",
    "# base_layers = layers.Conv2D(16, 3, padding='same', activation='relu', name='bl_2')(base_layers)\n",
    "# base_layers = layers.MaxPooling2D(name='bl_3')(base_layers)\n",
    "# base_layers = layers.Conv2D(32, 3, padding='same', activation='relu', name='bl_4')(base_layers)\n",
    "# base_layers = layers.MaxPooling2D(name='bl_5')(base_layers)\n",
    "# base_layers = layers.Conv2D(64, 3, padding='same', activation='relu', name='bl_6')(base_layers)\n",
    "# base_layers = layers.MaxPooling2D(name='bl_7')(base_layers)\n",
    "# base_layers = layers.Flatten(name='bl_8')(base_layers)"
   ]
  },
  {
   "cell_type": "code",
   "execution_count": null,
   "metadata": {
    "id": "7M6TnHDBiJOV"
   },
   "outputs": [],
   "source": [
    "# #create the classifier branch\n",
    "# classifier_branch = layers.Dense(128, activation='relu', name='cl_1')(base_layers)\n",
    "# classifier_branch = layers.Dense(num_classes, name='cl_head')(classifier_branch)"
   ]
  },
  {
   "cell_type": "code",
   "execution_count": null,
   "metadata": {
    "id": "ouqSA8Q9iMvm"
   },
   "outputs": [],
   "source": [
    "# #create the localiser branch\n",
    "# locator_branch = layers.Dense(128, activation='relu', name='bb_1')(base_layers)\n",
    "# locator_branch = layers.Dense(64, activation='relu', name='bb_2')(locator_branch)\n",
    "# locator_branch = layers.Dense(32, activation='relu', name='bb_3')(locator_branch)\n",
    "# locator_branch = layers.Dense(4, activation='sigmoid', name='bb_head')(locator_branch)\n"
   ]
  },
  {
   "cell_type": "code",
   "execution_count": null,
   "metadata": {},
   "outputs": [],
   "source": [
    "# Try building model a different way\n",
    "from tensorflow.keras.models import Sequential\n",
    "from tensorflow.keras.models import Model\n",
    "from tensorflow.keras.layers import Dense, Activation, Conv2D, MaxPooling2D, Flatten, Dropout\n",
    "\n",
    "model = Sequential()\n",
    "\n",
    "# Convolutional Phase\n",
    "model.add(Conv2D(16, kernel_size=(3, 3),\n",
    "                 activation='relu',\n",
    "                 input_shape=input_shape)) \n",
    "model.add(MaxPooling2D(pool_size=(2, 2)))\n",
    "model.add(Conv2D(48, (3, 3), activation='relu'))\n",
    "model.add(MaxPooling2D(pool_size=(2, 2)))\n",
    "\n",
    "# This compresses all the values to a single dimension\n",
    "model.add(Flatten())\n",
    "\n",
    "# Predictive phase using convolutional features\n",
    "model.add(Dense(128, activation='relu'))\n",
    "\n",
    "# Classification output\n",
    "classification_output = Dense(num_classes, activation='softmax', name='classification_output')(model.layers[-1].output)\n",
    "\n",
    "# Bounding box prediction output\n",
    "bounding_box_output = Dense(4, activation='linear', name='bounding_box_output')(model.layers[-1].output)\n",
    "\n",
    "model = Model(inputs=model.input, outputs=[classification_output, bounding_box_output])\n",
    "\n",
    "losses = {\n",
    "    \"classification_output\": \"categorical_crossentropy\",\n",
    "    \"bounding_box_output\": \"mse\"\n",
    "}\n",
    "\n",
    "model.compile(loss=losses, optimizer='adam', metrics=['accuracy'])"
   ]
  },
  {
   "cell_type": "code",
   "execution_count": null,
   "metadata": {
    "id": "2LEc_U0BjnEp"
   },
   "outputs": [],
   "source": [
    "# model = tf.keras.Model(input_layer, outputs=[classifier_branch, locator_branch])"
   ]
  },
  {
   "cell_type": "code",
   "execution_count": null,
   "metadata": {
    "colab": {
     "base_uri": "https://localhost:8080/"
    },
    "id": "gu2PJFk7jpg_",
    "outputId": "9d57a1cf-863b-41a9-a5bb-04493333de09"
   },
   "outputs": [],
   "source": [
    "model.summary()"
   ]
  },
  {
   "cell_type": "code",
   "execution_count": null,
   "metadata": {
    "colab": {
     "base_uri": "https://localhost:8080/"
    },
    "id": "3mE4TCyOrUR5",
    "outputId": "a196e5d2-9607-49f3-9159-0616264a4a69"
   },
   "outputs": [],
   "source": [
    "# for layer in model.layers:\n",
    "#     if layer.name.startswith('bl_'):\n",
    "#         print(layer.name)\n",
    "#         layer.trainable = False\n",
    "\n",
    "# for layer in model.layers:\n",
    "#     if layer.name.startswith('bb_'):\n",
    "#         print(layer.name)\n",
    "#         layer.trainable = False"
   ]
  },
  {
   "cell_type": "code",
   "execution_count": null,
   "metadata": {
    "colab": {
     "base_uri": "https://localhost:8080/"
    },
    "id": "vN8eTpT8rXQ5",
    "outputId": "7324522d-94dc-44ab-e298-8af622a33173"
   },
   "outputs": [],
   "source": [
    "# model.summary()"
   ]
  },
  {
   "cell_type": "code",
   "execution_count": null,
   "metadata": {
    "id": "REBMO-mvrfRx"
   },
   "outputs": [],
   "source": [
    "# losses = {\"cl_head\":tf.keras.losses.SparseCategoricalCrossentropy(from_logits=True), \"bb_head\":tf.keras.losses.MSE}"
   ]
  },
  {
   "cell_type": "code",
   "execution_count": null,
   "metadata": {
    "id": "2zn8IJZ2rgTz"
   },
   "outputs": [],
   "source": [
    "# add optimizer (Adam)\n",
    "# model.compile(loss=losses, optimizer='Adam', metrics=['accuracy'])"
   ]
  },
  {
   "cell_type": "code",
   "execution_count": null,
   "metadata": {
    "id": "pXvAqfJfruFU"
   },
   "outputs": [],
   "source": [
    "# convert data to np.array\n",
    "training_epochs = 5\n",
    "\n",
    "train_images = np.array(train_images)\n",
    "train_targets = np.array(train_targets)\n",
    "train_labels = np.array(train_labels)\n",
    "\n",
    "test_images = np.array(test_images)\n",
    "test_targets = np.array(test_targets)\n",
    "test_labels = np.array(test_labels)\n",
    "\n",
    "validation_images = np.array(validation_images)\n",
    "validation_targets = np.array(validation_targets)\n",
    "validation_labels = np.array(validation_labels)"
   ]
  },
  {
   "cell_type": "code",
   "execution_count": null,
   "metadata": {},
   "outputs": [],
   "source": [
    "# losses = {\n",
    "#     \"cl_head\": \"categorical_crossentropy\",\n",
    "#     \"bb_head\": \"mse\"\n",
    "# }\n",
    "\n",
    "# model.compile(loss=losses, optimizer='adam', metrics=['accuracy'])"
   ]
  },
  {
   "cell_type": "code",
   "execution_count": null,
   "metadata": {
    "id": "Gm4xyMSOsOva"
   },
   "outputs": [],
   "source": [
    "trainTargets = {\n",
    "    \"classification_output\": train_labels,\n",
    "    \"bounding_box_output\": train_targets\n",
    "}\n",
    "\n",
    "testTargets = {\n",
    "    \"classification_output\": test_labels,\n",
    "    \"bounding_box_output\": test_targets\n",
    "}"
   ]
  },
  {
   "cell_type": "code",
   "execution_count": null,
   "metadata": {
    "colab": {
     "base_uri": "https://localhost:8080/"
    },
    "id": "7gWu8QJCsPzu",
    "outputId": "bad7386f-355b-444a-e154-1251ce282cd2"
   },
   "outputs": [],
   "source": [
    "# history = model.fit(train_images, trainTargets,\n",
    "#                    validation_data=(test_images, testTargets),\n",
    "#                    batch_size=4,\n",
    "#                    epochs=training_epochs,\n",
    "#                    shuffle=True,\n",
    "#                    verbose=1)\n",
    "\n",
    "history = model.fit(\n",
    "    train_images,\n",
    "    {\"classification_output\": train_labels, \"bounding_box_output\": train_targets},\n",
    "    validation_data=(test_images, {\"classification_output\": test_labels, \"bounding_box_output\": test_targets}),\n",
    "    epochs=10,\n",
    "    batch_size=32\n",
    ")"
   ]
  },
  {
   "cell_type": "code",
   "execution_count": null,
   "metadata": {
    "colab": {
     "base_uri": "https://localhost:8080/",
     "height": 1000
    },
    "id": "Bwc_VdwAM23H",
    "outputId": "16ae426c-a606-46b3-cf81-bdcc88edd11a"
   },
   "outputs": [],
   "source": [
    "cl_accuracy = history.history['cl_head_accuracy']\n",
    "cl_val_acc = history.history['val_cl_head_accuracy']\n",
    "\n",
    "bb_accuracy = history.history['bb_head_accuracy']\n",
    "bb_val_acc = history.history['val_bb_head_accuracy']\n",
    "\n",
    "cl_loss = history.history['cl_head_loss']\n",
    "cl_val_loss = history.history['val_cl_head_loss']\n",
    "\n",
    "bb_loss = history.history['bb_head_loss']\n",
    "bb_val_loss = history.history['val_bb_head_loss']\n",
    "\n",
    "\n",
    "\n",
    "epochs_range = range(training_epochs)\n",
    "\n",
    "\n",
    "plt.figure(figsize=(8, 8))\n",
    "plt.subplot(1, 2, 1)\n",
    "plt.plot(epochs_range, cl_accuracy, label='Training Accuracy')\n",
    "plt.plot(epochs_range, cl_val_acc, label='Validation Accuracy')\n",
    "plt.legend(loc='lower right')\n",
    "plt.title('Classification branch - Accuracy')\n",
    "\n",
    "plt.subplot(1, 2, 2)\n",
    "plt.plot(epochs_range, cl_loss, label='Training Loss')\n",
    "plt.plot(epochs_range, cl_val_loss, label='Validation Loss')\n",
    "plt.legend(loc='upper right')\n",
    "plt.title('Classification branch - Loss')\n",
    "plt.show()\n",
    "\n",
    "plt.figure(figsize=(8, 8))\n",
    "plt.subplot(1, 2, 1)\n",
    "plt.plot(epochs_range, bb_accuracy, label='Training Accuracy')\n",
    "plt.plot(epochs_range, bb_val_acc, label='Validation Accuracy')\n",
    "plt.legend(loc='lower right')\n",
    "plt.title('Localisation branch - Accuracy')\n",
    "\n",
    "plt.subplot(1, 2, 2)\n",
    "plt.plot(epochs_range, bb_loss, label='Training Loss')\n",
    "plt.plot(epochs_range, bb_val_loss, label='Validation Loss')\n",
    "plt.legend(loc='upper right')\n",
    "plt.title('Localisation branch - Loss')\n",
    "plt.show()\n",
    "\n",
    "print(history.history)"
   ]
  },
  {
   "cell_type": "markdown",
   "metadata": {
    "id": "5Qj4NOvWkMOF"
   },
   "source": [
    "## Step 3: Test Model"
   ]
  },
  {
   "cell_type": "code",
   "execution_count": null,
   "metadata": {
    "colab": {
     "base_uri": "https://localhost:8080/",
     "height": 1000
    },
    "id": "amNB2EN9kUC_",
    "outputId": "04bd7c0f-e0e0-41fc-c279-34b29c000ba8"
   },
   "outputs": [],
   "source": [
    "test_dir = pathlib.Path('../shellfish_dataset/test')\n",
    "# test_dir = '/content/shellfish_dataset/test'\n",
    "img_paths = list(test_dir.glob('*.jpg'))\n",
    "\n",
    "plt.figure(figsize=(20, 20))\n",
    "#print(len(img_paths))\n",
    "\n",
    "for i, img_path in enumerate(img_paths):\n",
    "    shellfish_img = keras.preprocessing.image.load_img(img_path, target_size=(height, width))\n",
    "    img_arr = keras.preprocessing.image.img_to_array(shellfish_img)\n",
    "    img_arr = tf.expand_dims(img_arr, 0)\n",
    "\n",
    "    predictions = model.predict(img_arr)\n",
    "    print(predictions)\n",
    "\n",
    "    score = tf.nn.softmax(predictions[0][0])\n",
    "\n",
    "    percent = int(round(100*np.max(score), 0))\n",
    "    print(classes)\n",
    "    print(np.argmax(score))\n",
    "    print(classes[np.argmax(score)])\n",
    "    class_name = classes[np.argmax(score)]\n",
    "    title = \"{} - {} %\".format(class_name, percent)\n",
    "\n",
    "    bbox = predictions[1][0]\n",
    "    print(\"preds = \", type(predictions), predictions)\n",
    "    bbox = [min(bbox[0], bbox[2]) * width, min(bbox[1], bbox[3]) * height, max(bbox[0], bbox[2]) * width, max(bbox[1], bbox[3]) * height]\n",
    "    print(\"box = \", type(bbox), bbox)\n",
    "    # bbox = [bbox[0] * width, bbox[1] * height, bbox[2] * width, bbox[3] * height]\n",
    "\n",
    "    if class_name == 'Shrimp':\n",
    "        shellfish_img_arr = np.array(shellfish_img)\n",
    "        cv2.rectangle(shellfish_img_arr, (int(bbox[0]), int(bbox[1])), (int(bbox[2]), int(bbox[3])), (255, 255, 255), 3)\n",
    "        shellfish_img_arr_rgb = cv2.cvtColor(shellfish_img_arr, cv2.COLOR_BGR2RGB)\n",
    "        plt.figure()\n",
    "        plt.imshow(shellfish_img_arr_rgb)\n",
    "        # draw1 = Draw(shellfish_img)\n",
    "        # draw1.rectangle(bbox, outline='yellow', width=2)\n",
    "\n",
    "    if class_name == 'Lobster':\n",
    "        draw1 = Draw(shellfish_img)\n",
    "        draw1.rectangle(bbox, outline='red', width=2)\n",
    "\n",
    "    if class_name == 'Crab':\n",
    "        draw1 = Draw(shellfish_img)\n",
    "        draw1.rectangle(bbox, outline='blue', width=2)\n",
    "\n",
    "    ax = plt.subplot(29, 2, i+1)\n",
    "    plt.imshow(shellfish_img)\n",
    "    plt.title(title)\n",
    "    plt.axis(\"off\")"
   ]
  },
  {
   "cell_type": "code",
   "execution_count": null,
   "metadata": {},
   "outputs": [],
   "source": []
  }
 ],
 "metadata": {
  "colab": {
   "provenance": []
  },
  "kernelspec": {
   "display_name": "Python 3 (ipykernel)",
   "language": "python",
   "name": "python3"
  },
  "language_info": {
   "codemirror_mode": {
    "name": "ipython",
    "version": 3
   },
   "file_extension": ".py",
   "mimetype": "text/x-python",
   "name": "python",
   "nbconvert_exporter": "python",
   "pygments_lexer": "ipython3",
   "version": "3.11.5"
  }
 },
 "nbformat": 4,
 "nbformat_minor": 4
}
