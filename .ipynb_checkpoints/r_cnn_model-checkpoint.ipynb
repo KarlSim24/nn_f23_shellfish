{
 "cells": [
  {
   "cell_type": "markdown",
   "metadata": {
    "id": "vDLX7GFNdfth"
   },
   "source": [
    "### R-CNN Implementation Using Keras"
   ]
  },
  {
   "cell_type": "markdown",
   "metadata": {
    "id": "-RlzqTyPdhGL"
   },
   "source": [
    "## Step 1: read in dataset and draw bounding boxes on images"
   ]
  },
  {
   "cell_type": "code",
   "execution_count": 17,
   "metadata": {
    "id": "XyMMkb_QdYdP"
   },
   "outputs": [],
   "source": [
    "import os,cv2,keras\n",
    "import pandas as pd\n",
    "import matplotlib.pyplot as plt\n",
    "import numpy as np\n",
    "import tensorflow as tf\n",
    "from sklearn.model_selection import train_test_split\n",
    "from tensorflow.keras.models import Sequential\n",
    "from tensorflow.keras.layers import Dense, Activation, Conv2D, MaxPooling2D, Flatten, Dropout\n",
    "import matplotlib.pyplot as plt\n",
    "import numpy as np\n",
    "import os\n",
    "import PIL\n",
    "import tensorflow as tf\n",
    "from tensorflow import keras\n",
    "from tensorflow.keras import layers\n",
    "from tensorflow.keras.models import Sequential\n",
    "import pathlib\n",
    "import pandas as pd\n",
    "from PIL import Image\n",
    "from PIL.ImageDraw import Draw\n"
   ]
  },
  {
   "cell_type": "markdown",
   "metadata": {
    "id": "dXzg5o_Djsct"
   },
   "source": [
    "## Step 2: start building model"
   ]
  },
  {
   "cell_type": "code",
   "execution_count": 18,
   "metadata": {
    "id": "CSdag0c-hgJN"
   },
   "outputs": [],
   "source": [
    "width = 416\n",
    "height = 416\n",
    "num_classes = 3\n",
    "classes = [\"Crab\", \"Shrimp\", \"Lobster\"]"
   ]
  },
  {
   "cell_type": "code",
   "execution_count": 19,
   "metadata": {},
   "outputs": [],
   "source": [
    "def load_and_process_data(csv_file, image_dir):\n",
    "    image_records = pd.read_csv(csv_file)\n",
    "    image_path = os.path.join(os.getcwd(), image_dir)\n",
    "\n",
    "    images = []\n",
    "    targets = []\n",
    "    labels = []\n",
    "\n",
    "    for index, row in image_records.iterrows():\n",
    "        (filename, width, height, class_name, xmin, ymin, xmax, ymax) = row\n",
    "\n",
    "        image_fullpath = os.path.join(image_path, filename)\n",
    "        img = keras.preprocessing.image.load_img(image_fullpath, target_size=(height, width))\n",
    "        img_arr = keras.preprocessing.image.img_to_array(img)\n",
    "\n",
    "        xmin = round(xmin/ width, 2)\n",
    "        ymin = round(ymin/ height, 2)\n",
    "        xmax = round(xmax/ width, 2)\n",
    "        ymax = round(ymax/ height, 2)\n",
    "\n",
    "        images.append(img_arr)\n",
    "        targets.append((xmin, ymin, xmax, ymax))\n",
    "        labels.append(classes.index(class_name))\n",
    "\n",
    "    return images, targets, labels"
   ]
  },
  {
   "cell_type": "code",
   "execution_count": 20,
   "metadata": {},
   "outputs": [],
   "source": [
    "# load and preprocess datasets\n",
    "TRAINING_CSV_FILE = '../shellfish_dataset/train/_annotations.csv'\n",
    "VALIDATION_CSV_FILE = '../shellfish_dataset/valid/_annotations.csv'\n",
    "TESTING_CSV_FILE = '../shellfish_dataset/test/_annotations.csv'\n",
    "\n",
    "TRAINING_IMAGE_DIR = '../shellfish_dataset/train'\n",
    "VALIDATION_IMAGE_DIR = '../shellfish_dataset/valid'\n",
    "TESTING_IMAGE_DIR = '../shellfish_dataset/test'\n",
    "\n",
    "train_images, train_targets, train_labels = load_and_process_data(TRAINING_CSV_FILE, TRAINING_IMAGE_DIR)\n",
    "validation_images, validation_targets, validation_labels = load_and_process_data(VALIDATION_CSV_FILE, VALIDATION_IMAGE_DIR)\n",
    "test_images, test_targets, test_labels = load_and_process_data(TESTING_CSV_FILE, TESTING_IMAGE_DIR)"
   ]
  },
  {
   "cell_type": "code",
   "execution_count": 21,
   "metadata": {
    "id": "uDfjeoLDhvbm"
   },
   "outputs": [],
   "source": [
    "#create the common input layer\n",
    "input_shape = (height, width, 3)\n",
    "input_layer = tf.keras.layers.Input(input_shape)\n",
    "\n",
    "#create the base layers\n",
    "base_layers = layers.experimental.preprocessing.Rescaling(1./255, name='bl_1')(input_layer)\n",
    "base_layers = layers.Conv2D(16, 3, padding='same', activation='relu', name='bl_2')(base_layers)\n",
    "base_layers = layers.MaxPooling2D(name='bl_3')(base_layers)\n",
    "base_layers = layers.Conv2D(32, 3, padding='same', activation='relu', name='bl_4')(base_layers)\n",
    "base_layers = layers.MaxPooling2D(name='bl_5')(base_layers)\n",
    "base_layers = layers.Conv2D(64, 3, padding='same', activation='relu', name='bl_6')(base_layers)\n",
    "base_layers = layers.MaxPooling2D(name='bl_7')(base_layers)\n",
    "base_layers = layers.Flatten(name='bl_8')(base_layers)"
   ]
  },
  {
   "cell_type": "code",
   "execution_count": 22,
   "metadata": {
    "id": "7M6TnHDBiJOV"
   },
   "outputs": [],
   "source": [
    "#create the classifier branch\n",
    "classifier_branch = layers.Dense(128, activation='relu', name='cl_1')(base_layers)\n",
    "classifier_branch = layers.Dense(num_classes, name='cl_head')(classifier_branch)"
   ]
  },
  {
   "cell_type": "code",
   "execution_count": 23,
   "metadata": {
    "id": "ouqSA8Q9iMvm"
   },
   "outputs": [],
   "source": [
    "#create the localiser branch\n",
    "locator_branch = layers.Dense(128, activation='relu', name='bb_1')(base_layers)\n",
    "locator_branch = layers.Dense(64, activation='relu', name='bb_2')(locator_branch)\n",
    "locator_branch = layers.Dense(32, activation='relu', name='bb_3')(locator_branch)\n",
    "locator_branch = layers.Dense(4, activation='sigmoid', name='bb_head')(locator_branch)\n"
   ]
  },
  {
   "cell_type": "code",
   "execution_count": 24,
   "metadata": {
    "id": "2LEc_U0BjnEp"
   },
   "outputs": [],
   "source": [
    "model = tf.keras.Model(input_layer, outputs=[classifier_branch, locator_branch])"
   ]
  },
  {
   "cell_type": "code",
   "execution_count": 25,
   "metadata": {
    "colab": {
     "base_uri": "https://localhost:8080/"
    },
    "id": "gu2PJFk7jpg_",
    "outputId": "9d57a1cf-863b-41a9-a5bb-04493333de09"
   },
   "outputs": [
    {
     "name": "stdout",
     "output_type": "stream",
     "text": [
      "Model: \"model_1\"\n",
      "__________________________________________________________________________________________________\n",
      " Layer (type)                Output Shape                 Param #   Connected to                  \n",
      "==================================================================================================\n",
      " input_2 (InputLayer)        [(None, 416, 416, 3)]        0         []                            \n",
      "                                                                                                  \n",
      " bl_1 (Rescaling)            (None, 416, 416, 3)          0         ['input_2[0][0]']             \n",
      "                                                                                                  \n",
      " bl_2 (Conv2D)               (None, 416, 416, 16)         448       ['bl_1[0][0]']                \n",
      "                                                                                                  \n",
      " bl_3 (MaxPooling2D)         (None, 208, 208, 16)         0         ['bl_2[0][0]']                \n",
      "                                                                                                  \n",
      " bl_4 (Conv2D)               (None, 208, 208, 32)         4640      ['bl_3[0][0]']                \n",
      "                                                                                                  \n",
      " bl_5 (MaxPooling2D)         (None, 104, 104, 32)         0         ['bl_4[0][0]']                \n",
      "                                                                                                  \n",
      " bl_6 (Conv2D)               (None, 104, 104, 64)         18496     ['bl_5[0][0]']                \n",
      "                                                                                                  \n",
      " bl_7 (MaxPooling2D)         (None, 52, 52, 64)           0         ['bl_6[0][0]']                \n",
      "                                                                                                  \n",
      " bl_8 (Flatten)              (None, 173056)               0         ['bl_7[0][0]']                \n",
      "                                                                                                  \n",
      " bb_1 (Dense)                (None, 128)                  2215129   ['bl_8[0][0]']                \n",
      "                                                          6                                       \n",
      "                                                                                                  \n",
      " bb_2 (Dense)                (None, 64)                   8256      ['bb_1[0][0]']                \n",
      "                                                                                                  \n",
      " cl_1 (Dense)                (None, 128)                  2215129   ['bl_8[0][0]']                \n",
      "                                                          6                                       \n",
      "                                                                                                  \n",
      " bb_3 (Dense)                (None, 32)                   2080      ['bb_2[0][0]']                \n",
      "                                                                                                  \n",
      " cl_head (Dense)             (None, 3)                    387       ['cl_1[0][0]']                \n",
      "                                                                                                  \n",
      " bb_head (Dense)             (None, 4)                    132       ['bb_3[0][0]']                \n",
      "                                                                                                  \n",
      "==================================================================================================\n",
      "Total params: 44337031 (169.13 MB)\n",
      "Trainable params: 44337031 (169.13 MB)\n",
      "Non-trainable params: 0 (0.00 Byte)\n",
      "__________________________________________________________________________________________________\n"
     ]
    }
   ],
   "source": [
    "model.summary()"
   ]
  },
  {
   "cell_type": "code",
   "execution_count": 33,
   "metadata": {
    "colab": {
     "base_uri": "https://localhost:8080/"
    },
    "id": "3mE4TCyOrUR5",
    "outputId": "a196e5d2-9607-49f3-9159-0616264a4a69"
   },
   "outputs": [],
   "source": [
    "# for layer in model.layers:\n",
    "#     if layer.name.startswith('bl_'):\n",
    "#         print(layer.name)\n",
    "#         layer.trainable = False\n",
    "\n",
    "# for layer in model.layers:\n",
    "#     if layer.name.startswith('bb_'):\n",
    "#         print(layer.name)\n",
    "#         layer.trainable = False"
   ]
  },
  {
   "cell_type": "code",
   "execution_count": 34,
   "metadata": {
    "colab": {
     "base_uri": "https://localhost:8080/"
    },
    "id": "vN8eTpT8rXQ5",
    "outputId": "7324522d-94dc-44ab-e298-8af622a33173"
   },
   "outputs": [],
   "source": [
    "# model.summary()"
   ]
  },
  {
   "cell_type": "code",
   "execution_count": 40,
   "metadata": {
    "id": "REBMO-mvrfRx"
   },
   "outputs": [],
   "source": [
    "losses = {\"cl_head\":tf.keras.losses.SparseCategoricalCrossentropy(from_logits=True), \"bb_head\":tf.keras.losses.MSE}\n"
   ]
  },
  {
   "cell_type": "code",
   "execution_count": 41,
   "metadata": {
    "id": "2zn8IJZ2rgTz"
   },
   "outputs": [],
   "source": [
    "# add optimizer (Adam)\n",
    "model.compile(loss=losses, optimizer='Adam', metrics=['accuracy'])"
   ]
  },
  {
   "cell_type": "code",
   "execution_count": 42,
   "metadata": {
    "id": "pXvAqfJfruFU"
   },
   "outputs": [],
   "source": [
    "# convert data to np.array\n",
    "training_epochs = 5\n",
    "\n",
    "train_images = np.array(train_images)\n",
    "train_targets = np.array(train_targets)\n",
    "train_labels = np.array(train_labels)\n",
    "\n",
    "test_images = np.array(test_images)\n",
    "test_targets = np.array(test_targets)\n",
    "test_labels = np.array(test_labels)\n",
    "\n",
    "validation_images = np.array(validation_images)\n",
    "validation_targets = np.array(validation_targets)\n",
    "validation_labels = np.array(validation_labels)"
   ]
  },
  {
   "cell_type": "code",
   "execution_count": 43,
   "metadata": {
    "id": "Gm4xyMSOsOva"
   },
   "outputs": [],
   "source": [
    "trainTargets = {\n",
    "    \"cl_head\": train_labels,\n",
    "    \"bb_head\": train_targets\n",
    "}\n",
    "\n",
    "testTargets = {\n",
    "    \"cl_head\": test_labels,\n",
    "    \"bb_head\": test_targets\n",
    "}"
   ]
  },
  {
   "cell_type": "code",
   "execution_count": 44,
   "metadata": {
    "colab": {
     "base_uri": "https://localhost:8080/"
    },
    "id": "7gWu8QJCsPzu",
    "outputId": "bad7386f-355b-444a-e154-1251ce282cd2"
   },
   "outputs": [
    {
     "name": "stdout",
     "output_type": "stream",
     "text": [
      "Epoch 1/5\n"
     ]
    },
    {
     "name": "stderr",
     "output_type": "stream",
     "text": [
      "\n",
      "KeyboardInterrupt\n",
      "\n"
     ]
    }
   ],
   "source": [
    "history = model.fit(train_images, trainTargets,\n",
    "                   validation_data=(test_images, testTargets),\n",
    "                   batch_size=4,\n",
    "                   epochs=training_epochs,\n",
    "                   shuffle=True,\n",
    "                   verbose=1)"
   ]
  },
  {
   "cell_type": "code",
   "execution_count": null,
   "metadata": {
    "colab": {
     "base_uri": "https://localhost:8080/",
     "height": 1000
    },
    "id": "Bwc_VdwAM23H",
    "outputId": "16ae426c-a606-46b3-cf81-bdcc88edd11a"
   },
   "outputs": [],
   "source": [
    "cl_accuracy = history.history['cl_head_accuracy']\n",
    "cl_val_acc = history.history['val_cl_head_accuracy']\n",
    "\n",
    "bb_accuracy = history.history['bb_head_accuracy']\n",
    "bb_val_acc = history.history['val_bb_head_accuracy']\n",
    "\n",
    "cl_loss = history.history['cl_head_loss']\n",
    "cl_val_loss = history.history['val_cl_head_loss']\n",
    "\n",
    "bb_loss = history.history['bb_head_loss']\n",
    "bb_val_loss = history.history['val_bb_head_loss']\n",
    "\n",
    "\n",
    "\n",
    "epochs_range = range(training_epochs)\n",
    "\n",
    "\n",
    "plt.figure(figsize=(8, 8))\n",
    "plt.subplot(1, 2, 1)\n",
    "plt.plot(epochs_range, cl_accuracy, label='Training Accuracy')\n",
    "plt.plot(epochs_range, cl_val_acc, label='Validation Accuracy')\n",
    "plt.legend(loc='lower right')\n",
    "plt.title('Classification branch - Accuracy')\n",
    "\n",
    "plt.subplot(1, 2, 2)\n",
    "plt.plot(epochs_range, cl_loss, label='Training Loss')\n",
    "plt.plot(epochs_range, cl_val_loss, label='Validation Loss')\n",
    "plt.legend(loc='upper right')\n",
    "plt.title('Classification branch - Loss')\n",
    "plt.show()\n",
    "\n",
    "plt.figure(figsize=(8, 8))\n",
    "plt.subplot(1, 2, 1)\n",
    "plt.plot(epochs_range, bb_accuracy, label='Training Accuracy')\n",
    "plt.plot(epochs_range, bb_val_acc, label='Validation Accuracy')\n",
    "plt.legend(loc='lower right')\n",
    "plt.title('Localisation branch - Accuracy')\n",
    "\n",
    "plt.subplot(1, 2, 2)\n",
    "plt.plot(epochs_range, bb_loss, label='Training Loss')\n",
    "plt.plot(epochs_range, bb_val_loss, label='Validation Loss')\n",
    "plt.legend(loc='upper right')\n",
    "plt.title('Localisation branch - Loss')\n",
    "plt.show()\n",
    "\n",
    "print(history.history)"
   ]
  },
  {
   "cell_type": "markdown",
   "metadata": {
    "id": "5Qj4NOvWkMOF"
   },
   "source": [
    "## Step 3: Test Model"
   ]
  },
  {
   "cell_type": "code",
   "execution_count": null,
   "metadata": {
    "colab": {
     "base_uri": "https://localhost:8080/",
     "height": 1000
    },
    "id": "amNB2EN9kUC_",
    "outputId": "04bd7c0f-e0e0-41fc-c279-34b29c000ba8"
   },
   "outputs": [],
   "source": [
    "test_dir = pathlib.Path('../shellfish_dataset/test')\n",
    "# test_dir = '/content/shellfish_dataset/test'\n",
    "img_paths = list(test_dir.glob('*.jpg'))\n",
    "\n",
    "plt.figure(figsize=(20, 20))\n",
    "#print(len(img_paths))\n",
    "\n",
    "for i, img_path in enumerate(img_paths):\n",
    "    shellfish_img = keras.preprocessing.image.load_img(img_path, target_size=(height, width))\n",
    "    img_arr = keras.preprocessing.image.img_to_array(shellfish_img)\n",
    "    img_arr = tf.expand_dims(img_arr, 0)\n",
    "\n",
    "    predictions = model.predict(img_arr)\n",
    "    print(predictions)\n",
    "\n",
    "    score = tf.nn.softmax(predictions[0][0])\n",
    "\n",
    "    percent = int(round(100*np.max(score), 0))\n",
    "    print(classes)\n",
    "    print(np.argmax(score))\n",
    "    print(classes[np.argmax(score)])\n",
    "    class_name = classes[np.argmax(score)]\n",
    "    title = \"{} - {} %\".format(class_name, percent)\n",
    "\n",
    "    bbox = predictions[1][0]\n",
    "    print(\"preds = \", type(predictions), predictions)\n",
    "    bbox = [min(bbox[0], bbox[2]) * width, min(bbox[1], bbox[3]) * height, max(bbox[0], bbox[2]) * width, max(bbox[1], bbox[3]) * height]\n",
    "    print(\"box = \", type(bbox), bbox)\n",
    "    # bbox = [bbox[0] * width, bbox[1] * height, bbox[2] * width, bbox[3] * height]\n",
    "\n",
    "    if class_name == 'Shrimp':\n",
    "        shellfish_img_arr = np.array(shellfish_img)\n",
    "        cv2.rectangle(shellfish_img_arr, (int(bbox[0]), int(bbox[1])), (int(bbox[2]), int(bbox[3])), (255, 255, 255), 3)\n",
    "        shellfish_img_arr_rgb = cv2.cvtColor(shellfish_img_arr, cv2.COLOR_BGR2RGB)\n",
    "        plt.figure()\n",
    "        plt.imshow(shellfish_img_arr_rgb)\n",
    "        # draw1 = Draw(shellfish_img)\n",
    "        # draw1.rectangle(bbox, outline='yellow', width=2)\n",
    "\n",
    "    if class_name == 'Lobster':\n",
    "        draw1 = Draw(shellfish_img)\n",
    "        draw1.rectangle(bbox, outline='red', width=2)\n",
    "\n",
    "    if class_name == 'Crab':\n",
    "        draw1 = Draw(shellfish_img)\n",
    "        draw1.rectangle(bbox, outline='blue', width=2)\n",
    "\n",
    "    ax = plt.subplot(29, 2, i+1)\n",
    "    plt.imshow(shellfish_img)\n",
    "    plt.title(title)\n",
    "    plt.axis(\"off\")"
   ]
  },
  {
   "cell_type": "code",
   "execution_count": null,
   "metadata": {},
   "outputs": [],
   "source": []
  }
 ],
 "metadata": {
  "colab": {
   "provenance": []
  },
  "kernelspec": {
   "display_name": "Python 3 (ipykernel)",
   "language": "python",
   "name": "python3"
  },
  "language_info": {
   "codemirror_mode": {
    "name": "ipython",
    "version": 3
   },
   "file_extension": ".py",
   "mimetype": "text/x-python",
   "name": "python",
   "nbconvert_exporter": "python",
   "pygments_lexer": "ipython3",
   "version": "3.11.5"
  }
 },
 "nbformat": 4,
 "nbformat_minor": 4
}
