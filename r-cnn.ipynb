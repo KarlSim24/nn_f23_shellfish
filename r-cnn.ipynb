{
 "cells": [
  {
   "cell_type": "markdown",
   "metadata": {},
   "source": [
    "# R-CNN Implementation Using Keras"
   ]
  },
  {
   "cell_type": "markdown",
   "metadata": {},
   "source": [
    "Step 1: read in dataset and draw bounding boxes on images"
   ]
  },
  {
   "cell_type": "code",
   "execution_count": 5,
   "metadata": {},
   "outputs": [
    {
     "ename": "ModuleNotFoundError",
     "evalue": "No module named 'cv2'",
     "output_type": "error",
     "traceback": [
      "\u001b[0;31m---------------------------------------------------------------------------\u001b[0m",
      "\u001b[0;31mModuleNotFoundError\u001b[0m                       Traceback (most recent call last)",
      "\u001b[1;32m/Users/Sidra/Desktop/NeuralNetworks/FinalProject/nn_f23_shellfish/r-cnn.ipynb Cell 3\u001b[0m line \u001b[0;36m1\n\u001b[0;32m----> <a href='vscode-notebook-cell:/Users/Sidra/Desktop/NeuralNetworks/FinalProject/nn_f23_shellfish/r-cnn.ipynb#W2sZmlsZQ%3D%3D?line=0'>1</a>\u001b[0m \u001b[39mimport\u001b[39;00m \u001b[39mos\u001b[39;00m\u001b[39m,\u001b[39m\u001b[39mcv2\u001b[39;00m\u001b[39m,\u001b[39m\u001b[39mkeras\u001b[39;00m\n\u001b[1;32m      <a href='vscode-notebook-cell:/Users/Sidra/Desktop/NeuralNetworks/FinalProject/nn_f23_shellfish/r-cnn.ipynb#W2sZmlsZQ%3D%3D?line=1'>2</a>\u001b[0m \u001b[39mimport\u001b[39;00m \u001b[39mpandas\u001b[39;00m \u001b[39mas\u001b[39;00m \u001b[39mpd\u001b[39;00m\n\u001b[1;32m      <a href='vscode-notebook-cell:/Users/Sidra/Desktop/NeuralNetworks/FinalProject/nn_f23_shellfish/r-cnn.ipynb#W2sZmlsZQ%3D%3D?line=2'>3</a>\u001b[0m \u001b[39mimport\u001b[39;00m \u001b[39mmatplotlib\u001b[39;00m\u001b[39m.\u001b[39;00m\u001b[39mpyplot\u001b[39;00m \u001b[39mas\u001b[39;00m \u001b[39mplt\u001b[39;00m\n",
      "\u001b[0;31mModuleNotFoundError\u001b[0m: No module named 'cv2'"
     ]
    }
   ],
   "source": [
    "import os,cv2,keras\n",
    "import pandas as pd\n",
    "import matplotlib.pyplot as plt\n",
    "import numpy as np\n",
    "import tensorflow as tf\n",
    "from sklearn.model_selection import train_test_split\n",
    "from tensorflow.keras.models import Sequential\n",
    "from tensorflow.keras.layers import Dense, Activation, Conv2D, MaxPooling2D, Flatten, Dropout\n",
    "\n",
    "df = pd.read_csv('../shellfish_dataset/train/_annotations.csv')\n",
    "print(df.head())\n",
    "\n",
    "print(df.iloc[0]) #print the first row of data\n",
    "np_array = df.values\n",
    "print(np_array)\n",
    "print(len(np_array[0]))\n",
    "\n",
    "# get a test first image\n",
    "img = cv2.imread('../shellfish_dataset/train/d66fe3c0f7d5a396_jpg.rf.0d947e33ef400474603dc78f438e2101.jpg')\n",
    "plt.imshow(img)\n",
    "\n",
    "# draw a bounding box around the animal\n",
    "# print(df[['xmin', 'xmax', 'ymin', 'ymax']])\n",
    "# print(df[['xmin', 'xmax', 'ymin', 'ymax']].to_string(index=False))\n",
    "print(df.loc[0, ['xmin', 'xmax', 'ymin', 'ymax']]) \n",
    "xmin = int(df.loc[0, 'xmin'])\n",
    "xmax = int(df.loc[0, 'xmax'])\n",
    "ymin = int(df.loc[0, 'ymin'])\n",
    "ymax = int(df.loc[0, 'ymax'])\n",
    "cv2.rectangle(img,(xmin,ymin),(xmax,ymax),(255,255,255), 3)\n",
    "\n",
    "# print(df.loc[0, 'filename']) #print the name of the corresponding image\n",
    "plt.figure()\n",
    "plt.imshow(img)\n",
    "\n",
    "# 11/25 Progress\n",
    "\n",
    "#Begin Creating Model"
   ]
  },
  {
   "cell_type": "code",
   "execution_count": null,
   "metadata": {},
   "outputs": [],
   "source": []
  },
  {
   "cell_type": "code",
   "execution_count": null,
   "metadata": {},
   "outputs": [],
   "source": []
  }
 ],
 "metadata": {
  "kernelspec": {
   "display_name": "Python 3 (ipykernel)",
   "language": "python",
   "name": "python3"
  },
  "language_info": {
   "codemirror_mode": {
    "name": "ipython",
    "version": 3
   },
   "file_extension": ".py",
   "mimetype": "text/x-python",
   "name": "python",
   "nbconvert_exporter": "python",
   "pygments_lexer": "ipython3",
   "version": "3.11.6"
  }
 },
 "nbformat": 4,
 "nbformat_minor": 4
}
